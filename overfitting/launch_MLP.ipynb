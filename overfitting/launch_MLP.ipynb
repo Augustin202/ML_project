{
 "cells": [
  {
   "cell_type": "code",
   "execution_count": 1,
   "metadata": {},
   "outputs": [
    {
     "name": "stderr",
     "output_type": "stream",
     "text": [
      "C:\\Users\\guspo\\anaconda3\\lib\\site-packages\\paramiko\\transport.py:219: CryptographyDeprecationWarning: Blowfish has been deprecated\n",
      "  \"class\": algorithms.Blowfish,\n"
     ]
    },
    {
     "data": {
      "text/plain": [
       "'C:\\\\Users\\\\guspo\\\\Augustin\\\\X\\\\4A\\\\Cours\\\\ML\\\\ML_project\\\\MNIST'"
      ]
     },
     "execution_count": 1,
     "metadata": {},
     "output_type": "execute_result"
    }
   ],
   "source": [
    "import os\n",
    "import pickle\n",
    "import paramiko\n",
    "from itertools import product\n",
    "import time\n",
    "\n",
    "#os.chdir('../../../..')\n",
    "#os.chdir('../../../..')\n",
    "os.chdir('.')\n",
    "os.getcwd()"
   ]
  },
  {
   "cell_type": "markdown",
   "metadata": {},
   "source": [
    "# SSH hosts"
   ]
  },
  {
   "cell_type": "code",
   "execution_count": 2,
   "metadata": {},
   "outputs": [
    {
     "name": "stdin",
     "output_type": "stream",
     "text": [
      "Enter the password for the SSH:  gustusP13\n"
     ]
    }
   ],
   "source": [
    "# username and password\n",
    "username = \"augustin.poissonnier\"\n",
    "password = input(\"Enter the password for the SSH: \")"
   ]
  },
  {
   "cell_type": "code",
   "execution_count": 3,
   "metadata": {},
   "outputs": [
    {
     "name": "stdout",
     "output_type": "stream",
     "text": [
      "Hosts available: 169\n"
     ]
    }
   ],
   "source": [
    "# Retrieve the list of hosts\n",
    "file_path = \"ssh_hosts.pkl\"\n",
    "with open(file_path, \"rb\") as file:\n",
    "    ssh_hosts = pickle.load(file)\n",
    "print(\"Hosts available:\",len(ssh_hosts))"
   ]
  },
  {
   "cell_type": "markdown",
   "metadata": {},
   "source": [
    "## Grid search"
   ]
  },
  {
   "cell_type": "code",
   "execution_count": 4,
   "metadata": {},
   "outputs": [],
   "source": [
    "# args\n",
    "tau_1_list = [0.000001,0.00001,0.0001,0.001,0.01,0.1,1,10]\n",
    "tau_2_list = [i for i in range(1,11)]\n",
    "args = list(product(tau_1_list, tau_2_list))"
   ]
  },
  {
   "cell_type": "code",
   "execution_count": 5,
   "metadata": {},
   "outputs": [
    {
     "name": "stdout",
     "output_type": "stream",
     "text": [
      "Connecting to host: allemagne.polytechnique.fr\n"
     ]
    }
   ],
   "source": [
    "# progression\n",
    "host = ssh_hosts[0]\n",
    "print(\"Connecting to host:\", host)\n",
    "\n",
    "with paramiko.SSHClient() as client:\n",
    "    client.set_missing_host_key_policy(paramiko.AutoAddPolicy())\n",
    "    client.connect(host, 22, username=username, password=password)\n",
    "\n",
    "    # client.exec_command(\"mkdir hmm/src/data/hyperparams_tuning/\")"
   ]
  },
  {
   "cell_type": "code",
   "execution_count": 7,
   "metadata": {},
   "outputs": [
    {
     "name": "stdout",
     "output_type": "stream",
     "text": [
      "Host: allemagne.polytechnique.fr with t1,t2: (5, 1)\n",
      "Host: angleterre.polytechnique.fr with t1,t2: (5, 2)\n",
      "Host: autriche.polytechnique.fr with t1,t2: (5, 3)\n",
      "Host: belgique.polytechnique.fr with t1,t2: (5, 4)\n",
      "Host: espagne.polytechnique.fr with t1,t2: (5, 5)\n",
      "Host: finlande.polytechnique.fr with t1,t2: (5, 6)\n",
      "Host: france.polytechnique.fr with t1,t2: (5, 7)\n",
      "Host: groenland.polytechnique.fr with t1,t2: (5, 8)\n",
      "Host: hollande.polytechnique.fr with t1,t2: (5, 9)\n",
      "Host: hongrie.polytechnique.fr with t1,t2: (5, 10)\n",
      "Host: irlande.polytechnique.fr with t1,t2: (10, 1)\n",
      "Host: islande.polytechnique.fr with t1,t2: (10, 2)\n",
      "Host: lituanie.polytechnique.fr with t1,t2: (10, 3)\n",
      "Host: malte.polytechnique.fr with t1,t2: (10, 4)\n",
      "Host: monaco.polytechnique.fr with t1,t2: (10, 5)\n",
      "Host: pologne.polytechnique.fr with t1,t2: (10, 6)\n",
      "Host: portugal.polytechnique.fr with t1,t2: (10, 7)\n",
      "Host: roumanie.polytechnique.fr with t1,t2: (10, 8)\n",
      "Host: suede.polytechnique.fr with t1,t2: (10, 9)\n",
      "Host: albatros.polytechnique.fr with t1,t2: (10, 10)\n",
      "Host: autruche.polytechnique.fr with t1,t2: (25, 1)\n",
      "Host: bengali.polytechnique.fr with t1,t2: (25, 2)\n",
      "Host: coucou.polytechnique.fr with t1,t2: (25, 3)\n",
      "Host: dindon.polytechnique.fr with t1,t2: (25, 4)\n",
      "Host: epervier.polytechnique.fr with t1,t2: (25, 5)\n",
      "Host: faisan.polytechnique.fr with t1,t2: (25, 6)\n",
      "Host: gelinotte.polytechnique.fr with t1,t2: (25, 7)\n",
      "Host: hibou.polytechnique.fr with t1,t2: (25, 8)\n",
      "Host: harpie.polytechnique.fr with t1,t2: (25, 9)\n",
      "Host: jabiru.polytechnique.fr with t1,t2: (25, 10)\n",
      "Host: kamiche.polytechnique.fr with t1,t2: (50, 1)\n",
      "Host: linotte.polytechnique.fr with t1,t2: (50, 2)\n",
      "Host: loriol.polytechnique.fr with t1,t2: (50, 3)\n",
      "Host: mouette.polytechnique.fr with t1,t2: (50, 4)\n",
      "Host: nandou.polytechnique.fr with t1,t2: (50, 5)\n",
      "Host: ombrette.polytechnique.fr with t1,t2: (50, 6)\n",
      "Host: perdrix.polytechnique.fr with t1,t2: (50, 7)\n",
      "Host: quetzal.polytechnique.fr with t1,t2: (50, 8)\n",
      "Host: quiscale.polytechnique.fr with t1,t2: (50, 9)\n",
      "Host: rouloul.polytechnique.fr with t1,t2: (50, 10)\n",
      "Host: sitelle.polytechnique.fr with t1,t2: (100, 1)\n",
      "Host: traquet.polytechnique.fr with t1,t2: (100, 2)\n",
      "Host: urabu.polytechnique.fr with t1,t2: (100, 3)\n",
      "Host: verdier.polytechnique.fr with t1,t2: (100, 4)\n",
      "Host: aerides.polytechnique.fr with t1,t2: (100, 5)\n",
      "Host: barlia.polytechnique.fr with t1,t2: (100, 6)\n",
      "Host: calanthe.polytechnique.fr with t1,t2: (100, 7)\n",
      "Host: diuris.polytechnique.fr with t1,t2: (100, 8)\n",
      "Host: encyclia.polytechnique.fr with t1,t2: (100, 9)\n",
      "Host: epipactis.polytechnique.fr with t1,t2: (100, 10)\n"
     ]
    }
   ],
   "source": [
    "# parameters\n",
    "host_to_datasets = {}\n",
    "ssh_host_iter = iter(ssh_hosts)\n",
    "n_hosts_per_arg = 1\n",
    "\n",
    "# launch the parallel computing\n",
    "for arg in args:\n",
    "    # init\n",
    "    t1,t2 = arg\n",
    "    \n",
    "    for idx_host in range(n_hosts_per_arg):\n",
    "        # init\n",
    "        host = next(ssh_host_iter)\n",
    "        print(\"Host:\", host, \"with t1,t2:\", arg)\n",
    "        host_to_datasets[host] = arg\n",
    "\n",
    "        # launch\n",
    "        with paramiko.SSHClient() as client:\n",
    "            client.set_missing_host_key_policy(paramiko.AutoAddPolicy())\n",
    "            client.connect(host, 22, username=username, password=password)\n",
    "            command = \"cd ML_project/MNIST/ && nohup python of_MLP.py {} {} > of_MLP_{}_{}_output.log 2>&1 &\".format(t1,t2,t1,t2)\n",
    "            client.exec_command(command)\n",
    "            time.sleep(1)\n",
    "            \n",
    "\n",
    "\n",
    "# # save the set-up\n",
    "# save_as_pkl(\"data/host_to_datasets.pkl\",host_to_datasets)\n"
   ]
  },
  {
   "cell_type": "code",
   "execution_count": null,
   "metadata": {},
   "outputs": [],
   "source": []
  },
  {
   "cell_type": "code",
   "execution_count": null,
   "metadata": {},
   "outputs": [],
   "source": []
  },
  {
   "cell_type": "code",
   "execution_count": null,
   "metadata": {},
   "outputs": [],
   "source": []
  }
 ],
 "metadata": {
  "kernelspec": {
   "display_name": "Python 3 (ipykernel)",
   "language": "python",
   "name": "python3"
  },
  "language_info": {
   "codemirror_mode": {
    "name": "ipython",
    "version": 3
   },
   "file_extension": ".py",
   "mimetype": "text/x-python",
   "name": "python",
   "nbconvert_exporter": "python",
   "pygments_lexer": "ipython3",
   "version": "3.9.13"
  }
 },
 "nbformat": 4,
 "nbformat_minor": 4
}
