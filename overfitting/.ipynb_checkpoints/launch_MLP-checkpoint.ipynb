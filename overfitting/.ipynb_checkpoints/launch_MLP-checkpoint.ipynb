{
 "cells": [
  {
   "cell_type": "code",
   "execution_count": 1,
   "metadata": {},
   "outputs": [
    {
     "name": "stderr",
     "output_type": "stream",
     "text": [
      "C:\\Users\\guspo\\anaconda3\\lib\\site-packages\\paramiko\\transport.py:219: CryptographyDeprecationWarning: Blowfish has been deprecated\n",
      "  \"class\": algorithms.Blowfish,\n"
     ]
    },
    {
     "data": {
      "text/plain": [
       "'C:\\\\Users\\\\guspo\\\\Augustin\\\\X\\\\4A\\\\Cours\\\\ML\\\\ML_project\\\\overfitting'"
      ]
     },
     "execution_count": 1,
     "metadata": {},
     "output_type": "execute_result"
    }
   ],
   "source": [
    "import os\n",
    "import pickle\n",
    "import paramiko\n",
    "from itertools import product\n",
    "import time\n",
    "\n",
    "#os.chdir('../../../..')\n",
    "#os.chdir('../../../..')\n",
    "os.chdir('.')\n",
    "os.getcwd()"
   ]
  },
  {
   "cell_type": "markdown",
   "metadata": {},
   "source": [
    "# SSH hosts"
   ]
  },
  {
   "cell_type": "code",
   "execution_count": 2,
   "metadata": {},
   "outputs": [
    {
     "name": "stdin",
     "output_type": "stream",
     "text": [
      "Enter the password for the SSH:  gustusP13\n"
     ]
    }
   ],
   "source": [
    "# username and password\n",
    "username = \"augustin.poissonnier\"\n",
    "password = input(\"Enter the password for the SSH: \")"
   ]
  },
  {
   "cell_type": "code",
   "execution_count": 3,
   "metadata": {},
   "outputs": [
    {
     "name": "stdout",
     "output_type": "stream",
     "text": [
      "Hosts available: 169\n"
     ]
    }
   ],
   "source": [
    "# Retrieve the list of hosts\n",
    "file_path = \"ssh_hosts.pkl\"\n",
    "with open(file_path, \"rb\") as file:\n",
    "    ssh_hosts = pickle.load(file)\n",
    "print(\"Hosts available:\",len(ssh_hosts))"
   ]
  },
  {
   "cell_type": "markdown",
   "metadata": {},
   "source": [
    "## Grid search"
   ]
  },
  {
   "cell_type": "code",
   "execution_count": 4,
   "metadata": {},
   "outputs": [],
   "source": [
    "# args\n",
    "tau_1_list = [0.000001,0.00001,0.0001,0.001,0.01,0.1,1,10]\n",
    "tau_2_list = [i for i in range(1,11)]\n",
    "args = list(product(tau_1_list, tau_2_list))"
   ]
  },
  {
   "cell_type": "code",
   "execution_count": 5,
   "metadata": {},
   "outputs": [
    {
     "name": "stdout",
     "output_type": "stream",
     "text": [
      "Connecting to host: allemagne.polytechnique.fr\n"
     ]
    }
   ],
   "source": [
    "# progression\n",
    "host = ssh_hosts[0]\n",
    "print(\"Connecting to host:\", host)\n",
    "\n",
    "with paramiko.SSHClient() as client:\n",
    "    client.set_missing_host_key_policy(paramiko.AutoAddPolicy())\n",
    "    client.connect(host, 22, username=username, password=password)\n",
    "\n",
    "    # client.exec_command(\"mkdir hmm/src/data/hyperparams_tuning/\")"
   ]
  },
  {
   "cell_type": "code",
   "execution_count": null,
   "metadata": {},
   "outputs": [
    {
     "name": "stdout",
     "output_type": "stream",
     "text": [
      "Host: allemagne.polytechnique.fr with t1,t2: (1e-06, 1)\n",
      "Host: angleterre.polytechnique.fr with t1,t2: (1e-06, 2)\n",
      "Host: autriche.polytechnique.fr with t1,t2: (1e-06, 3)\n",
      "Host: belgique.polytechnique.fr with t1,t2: (1e-06, 4)\n",
      "Host: espagne.polytechnique.fr with t1,t2: (1e-06, 5)\n",
      "Host: finlande.polytechnique.fr with t1,t2: (1e-06, 6)\n",
      "Host: france.polytechnique.fr with t1,t2: (1e-06, 7)\n",
      "Host: groenland.polytechnique.fr with t1,t2: (1e-06, 8)\n",
      "Host: hollande.polytechnique.fr with t1,t2: (1e-06, 9)\n",
      "Host: hongrie.polytechnique.fr with t1,t2: (1e-06, 10)\n",
      "Host: irlande.polytechnique.fr with t1,t2: (1e-05, 1)\n",
      "Host: islande.polytechnique.fr with t1,t2: (1e-05, 2)\n",
      "Host: lituanie.polytechnique.fr with t1,t2: (1e-05, 3)\n"
     ]
    }
   ],
   "source": [
    "# parameters\n",
    "host_to_datasets = {}\n",
    "ssh_host_iter = iter(ssh_hosts)\n",
    "n_hosts_per_arg = 1\n",
    "\n",
    "# launch the parallel computing\n",
    "for arg in args:\n",
    "    # init\n",
    "    t1,t2 = arg\n",
    "    \n",
    "    for idx_host in range(n_hosts_per_arg):\n",
    "        # init\n",
    "        host = next(ssh_host_iter)\n",
    "        print(\"Host:\", host, \"with t1,t2:\", arg)\n",
    "        host_to_datasets[host] = arg\n",
    "\n",
    "        # launch\n",
    "        with paramiko.SSHClient() as client:\n",
    "            client.set_missing_host_key_policy(paramiko.AutoAddPolicy())\n",
    "            client.connect(host, 22, username=username, password=password)\n",
    "            command = \"cd ML_project/overfitting/ && nohup python of_MLP.py {} {} > of_MLP_{}_{}_output.log 2>&1 &\".format(t1,t2,t1,t2)\n",
    "            client.exec_command(command)\n",
    "            time.sleep(1)\n",
    "            \n",
    "\n",
    "\n",
    "# # save the set-up\n",
    "# save_as_pkl(\"data/host_to_datasets.pkl\",host_to_datasets)\n"
   ]
  }
 ],
 "metadata": {
  "kernelspec": {
   "display_name": "Python 3 (ipykernel)",
   "language": "python",
   "name": "python3"
  },
  "language_info": {
   "codemirror_mode": {
    "name": "ipython",
    "version": 3
   },
   "file_extension": ".py",
   "mimetype": "text/x-python",
   "name": "python",
   "nbconvert_exporter": "python",
   "pygments_lexer": "ipython3",
   "version": "3.9.13"
  }
 },
 "nbformat": 4,
 "nbformat_minor": 4
}
