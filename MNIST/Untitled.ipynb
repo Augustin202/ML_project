{
 "cells": [
  {
   "cell_type": "code",
   "execution_count": 3,
   "id": "c8e5ae71-5579-4753-9178-a8b8b1653724",
   "metadata": {},
   "outputs": [
    {
     "name": "stdout",
     "output_type": "stream",
     "text": [
      "C:\\Users\\guspo\\Augustin\\X\\4A\\Cours\\ML\\ML_project\\MNIST\n",
      "C:\\Users\\guspo\\Augustin\\X\\4A\\Cours\\ML\\ML_project\n"
     ]
    },
    {
     "name": "stderr",
     "output_type": "stream",
     "text": [
      "10it [00:03,  2.77it/s]\n"
     ]
    },
    {
     "name": "stdout",
     "output_type": "stream",
     "text": [
      "Classification Report, test set:\n",
      "              precision    recall  f1-score   support\n",
      "\n",
      "           0       0.81      0.62      0.70       200\n",
      "           1       0.69      0.85      0.77       200\n",
      "\n",
      "    accuracy                           0.74       400\n",
      "   macro avg       0.75      0.74      0.73       400\n",
      "weighted avg       0.75      0.74      0.73       400\n",
      "\n"
     ]
    }
   ],
   "source": [
    "import os\n",
    "import sys\n",
    "chemin=os.getcwd()\n",
    "print(os.getcwd())\n",
    "os.chdir('./..')\n",
    "print(os.getcwd())\n",
    "sys.path.append(os.getcwd())\n",
    "from hack_class import *\n",
    "os.chdir(chemin)\n",
    "sys.path.append(os.getcwd())\n",
    "import pandas as pd\n",
    "import numpy as np\n",
    "from tqdm import tqdm\n",
    "import random\n",
    "import json\n",
    "\n",
    "from sklearn.base import clone\n",
    "from sklearn.metrics import accuracy_score, confusion_matrix, classification_report\n",
    "from sklearn.model_selection import train_test_split\n",
    "from sklearn.tree import DecisionTreeClassifier\n",
    "from sklearn.ensemble import RandomForestClassifier\n",
    "from sklearn.linear_model import LogisticRegression\n",
    "from sklearn.neural_network import MLPClassifier\n",
    "\n",
    "from sklearn.datasets import fetch_openml\n",
    "\n",
    "models_dic={'rf':RandomForestClassifier(), 'tree':DecisionTreeClassifier(), 'logistic':LogisticRegression(C=30.0),\n",
    "      'knn':KNeighborsClassifier(), 'MLP':MLPClassifier()}\n",
    "args=['rf','1']\n",
    "\n",
    "#args = sys.argv[1:]\n",
    "model_name = args[0]\n",
    "num_fichier = int(args[1])\n",
    "\n",
    "model=models_dic[model_name]\n",
    "np.random.seed(42)\n",
    "\n",
    "X, y = fetch_openml('mnist_784', version=1, return_X_y=True, parser='auto')\n",
    "X = (X/255. - .5)*2\n",
    "\n",
    "#Target model\n",
    "X_train, X_test, y_train, y_test = train_test_split(X, y, test_size=200, train_size=200,stratify = y)\n",
    "rf_clf = clone(model)\n",
    "rf_clf.fit(X_train, y_train)\n",
    "\n",
    "random.seed()\n",
    "\n",
    "reports=[]\n",
    "for i in range(1):\n",
    "    #on split les données en deux, on garde le set shadow qui va servir à entrainer les shadow models\n",
    "    X_shadow, temp, y_shadow, temp2 = train_test_split(X, y, test_size=100, train_size=100,stratify = y)\n",
    "\n",
    "    models = [clone(model)]*2\n",
    "    test = HackingModel(RandomForestClassifier(n_estimators=100),models, X_shadow, y_shadow,\n",
    "                      list(set(y_shadow)),list(set(y_train)) )\n",
    "    report=test.print_score_hacking(X_train,y_train, X_test,y_test, rf_clf)\n",
    "    reports.append(report)\n",
    "\n",
    "# save\n",
    "filename = \"./data/report_test_model_{}_{}.json\".format(model_name, num_fichier)\n",
    "with open(filename, \"w\") as json_file:\n",
    "    json.dump(reports, json_file, indent=2)\n"
   ]
  },
  {
   "cell_type": "code",
   "execution_count": null,
   "id": "20c8a929-0a63-4955-aa92-e6199c65a9a2",
   "metadata": {},
   "outputs": [],
   "source": []
  }
 ],
 "metadata": {
  "kernelspec": {
   "display_name": "Python 3 (ipykernel)",
   "language": "python",
   "name": "python3"
  },
  "language_info": {
   "codemirror_mode": {
    "name": "ipython",
    "version": 3
   },
   "file_extension": ".py",
   "mimetype": "text/x-python",
   "name": "python",
   "nbconvert_exporter": "python",
   "pygments_lexer": "ipython3",
   "version": "3.9.13"
  }
 },
 "nbformat": 4,
 "nbformat_minor": 5
}
