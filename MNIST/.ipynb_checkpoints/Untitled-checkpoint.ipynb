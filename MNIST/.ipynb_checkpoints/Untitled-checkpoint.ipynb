{
 "cells": [
  {
   "cell_type": "code",
   "execution_count": 4,
   "id": "c8e5ae71-5579-4753-9178-a8b8b1653724",
   "metadata": {},
   "outputs": [
    {
     "name": "stderr",
     "output_type": "stream",
     "text": [
      "10it [00:03,  2.63it/s]\n"
     ]
    },
    {
     "name": "stdout",
     "output_type": "stream",
     "text": [
      "Classification Report, test set:\n",
      "              precision    recall  f1-score   support\n",
      "\n",
      "           0       0.84      0.67      0.74       200\n",
      "           1       0.72      0.88      0.79       200\n",
      "\n",
      "    accuracy                           0.77       400\n",
      "   macro avg       0.78      0.77      0.77       400\n",
      "weighted avg       0.78      0.77      0.77       400\n",
      "\n"
     ]
    }
   ],
   "source": [
    "import os\n",
    "chemin=os.getcwd()\n",
    "os.chdir('./..')\n",
    "from hack_class import *\n",
    "#from hack_class import HackingModel\n",
    "os.chdir(chemin)\n",
    "import pandas as pd\n",
    "import numpy as np\n",
    "from tqdm import tqdm\n",
    "import random\n",
    "import json\n",
    "\n",
    "from sklearn.metrics import accuracy_score, confusion_matrix, classification_report\n",
    "from sklearn.model_selection import train_test_split\n",
    "from sklearn.tree import DecisionTreeClassifier\n",
    "from sklearn.ensemble import RandomForestClassifier\n",
    "from sklearn.linear_model import LogisticRegression\n",
    "from sklearn.neural_network import MLPClassifier\n",
    "\n",
    "from sklearn.datasets import fetch_openml\n",
    "\n",
    "\n",
    "\n",
    "\n",
    "\n",
    "'''\n",
    "args = sys.argv[1:]\n",
    "nb_shadow = int(args[0])\n",
    "num_fichier = int(args[1])\n",
    "'''\n",
    "nb_shadow = 2\n",
    "num_fichier=1\n",
    "\n",
    "X, y = fetch_openml('mnist_784', version=1, return_X_y=True, parser='auto')\n",
    "X = (X/255. - .5)*2\n",
    "\n",
    "np.random.seed(42)\n",
    "\n",
    "#Target model\n",
    "X_train, X_test, y_train, y_test = train_test_split(X, y, test_size=200, train_size=200,stratify = y)\n",
    "rf_clf = RandomForestClassifier()\n",
    "rf_clf.fit(X_train, y_train)\n",
    "\n",
    "random.seed()\n",
    "\n",
    "reports=[]\n",
    "for i in range(1):\n",
    "    #on split les données en deux, on garde le set shadow qui va servir à entrainer les shadow models\n",
    "    X_shadow, temp, y_shadow, temp2 = train_test_split(X, y, test_size=100, train_size=100,stratify = y)\n",
    "\n",
    "    models = [RandomForestClassifier()]*nb_shadow\n",
    "    test = HackingModel(RandomForestClassifier(n_estimators=100),models, X_shadow, y_shadow,\n",
    "                      list(set(y_shadow)),list(set(y_train)) )\n",
    "    report=test.print_score_hacking(X_train,y_train, X_test,y_test, rf_clf)\n",
    "    reports.append(report)\n",
    "\n",
    "# save\n",
    "filename = \"./data/report_shadow_model_{}_{}.json\".format(nb_shadow, num_fichier)\n",
    "with open(filename, \"w\") as json_file:\n",
    "    json.dump(reports, json_file, indent=2)\n"
   ]
  },
  {
   "cell_type": "code",
   "execution_count": null,
   "id": "d72b98f3-871a-4e54-bfd5-84e591945870",
   "metadata": {},
   "outputs": [],
   "source": []
  }
 ],
 "metadata": {
  "kernelspec": {
   "display_name": "Python 3 (ipykernel)",
   "language": "python",
   "name": "python3"
  },
  "language_info": {
   "codemirror_mode": {
    "name": "ipython",
    "version": 3
   },
   "file_extension": ".py",
   "mimetype": "text/x-python",
   "name": "python",
   "nbconvert_exporter": "python",
   "pygments_lexer": "ipython3",
   "version": "3.9.13"
  }
 },
 "nbformat": 4,
 "nbformat_minor": 5
}
