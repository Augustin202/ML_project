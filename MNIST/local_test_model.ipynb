{
 "cells": [
  {
   "cell_type": "code",
   "execution_count": 1,
   "id": "a9de467c-a845-45ff-8037-e08025324072",
   "metadata": {},
   "outputs": [
    {
     "name": "stdout",
     "output_type": "stream",
     "text": [
      "C:\\Users\\guspo\\Augustin\\X\\4A\\Cours\\ML\\ML_project\\differencial_privacy\n",
      "C:\\Users\\guspo\\Augustin\\X\\4A\\Cours\\ML\\ML_project\n"
     ]
    }
   ],
   "source": [
    "import os\n",
    "import sys\n",
    "chemin=os.getcwd()\n",
    "print(os.getcwd())\n",
    "os.chdir('./..')\n",
    "print(os.getcwd())\n",
    "sys.path.append(os.getcwd())\n",
    "from hack_class import *\n",
    "os.chdir(chemin)\n",
    "sys.path.append(os.getcwd())\n",
    "import pandas as pd\n",
    "import numpy as np\n",
    "from tqdm import tqdm\n",
    "import random\n",
    "import json\n",
    "\n",
    "from sklearn.base import clone\n",
    "from sklearn.metrics import accuracy_score, confusion_matrix, classification_report\n",
    "from sklearn.model_selection import train_test_split\n",
    "from sklearn.tree import DecisionTreeClassifier\n",
    "from sklearn.ensemble import RandomForestClassifier\n",
    "from sklearn.linear_model import LogisticRegression\n",
    "from sklearn.neural_network import MLPClassifier\n",
    "\n",
    "from sklearn.datasets import fetch_openml\n",
    "\n"
   ]
  },
  {
   "cell_type": "code",
   "execution_count": 2,
   "id": "8c6a3ce8-aef1-479e-80c9-bbf2346cbeee",
   "metadata": {},
   "outputs": [],
   "source": [
    "def fonction(model_name, num_fichier):\n",
    "\n",
    "\n",
    "    models_dic={'rf':RandomForestClassifier(), 'tree':DecisionTreeClassifier(), 'logistic':LogisticRegression(C=30.0),\n",
    "          'knn':KNeighborsClassifier(), 'MLP':MLPClassifier()}\n",
    "\n",
    "    model=models_dic[model_name]\n",
    "\n",
    "    X, y = fetch_openml('mnist_784', version=1, return_X_y=True, parser='auto')\n",
    "    X = (X/255. - .5)*2\n",
    "\n",
    "    #Target model\n",
    "    X_train, X_test, y_train, y_test = train_test_split(X, y, test_size=300, train_size=300,stratify = y)\n",
    "    rf_clf = clone(model)\n",
    "    rf_clf.fit(X_train, y_train)\n",
    "\n",
    "\n",
    "    reports=[]\n",
    "    for i in range(10):\n",
    "        #on split les données en deux, on garde le set shadow qui va servir à entrainer les shadow models\n",
    "        X_shadow, temp, y_shadow, temp2 = train_test_split(X, y, test_size=300, train_size=300,stratify = y)\n",
    "\n",
    "        models = [clone(model)]*2\n",
    "        test = HackingModel(RandomForestClassifier(n_estimators=100),models, X_shadow, y_shadow,\n",
    "                          list(set(y_shadow)),list(set(y_train)) )\n",
    "        report=test.print_score_hacking(X_train,y_train, X_test,y_test, rf_clf)\n",
    "        reports.append(report)\n",
    "\n",
    "    # save\n",
    "    filename = \"./data/report_test_model_{}_{}.json\".format(model_name, num_fichier)\n",
    "    with open(filename, \"w\") as json_file:\n",
    "        json.dump(reports, json_file, indent=2)\n"
   ]
  },
  {
   "cell_type": "code",
   "execution_count": 3,
   "id": "ee83bb81-0233-4def-b1dd-93c354a40a64",
   "metadata": {},
   "outputs": [
    {
     "ename": "NameError",
     "evalue": "name 'product' is not defined",
     "output_type": "error",
     "traceback": [
      "\u001b[1;31m---------------------------------------------------------------------------\u001b[0m",
      "\u001b[1;31mNameError\u001b[0m                                 Traceback (most recent call last)",
      "\u001b[1;32m~\\AppData\\Local\\Temp\\ipykernel_10516\\781511467.py\u001b[0m in \u001b[0;36m<module>\u001b[1;34m\u001b[0m\n\u001b[0;32m      2\u001b[0m \u001b[0mtau_1_list\u001b[0m \u001b[1;33m=\u001b[0m \u001b[1;33m[\u001b[0m\u001b[1;36m0.0\u001b[0m\u001b[1;33m,\u001b[0m\u001b[1;36m0.1\u001b[0m\u001b[1;33m,\u001b[0m\u001b[1;36m0.2\u001b[0m\u001b[1;33m,\u001b[0m\u001b[1;36m0.5\u001b[0m\u001b[1;33m,\u001b[0m \u001b[1;36m1.0\u001b[0m\u001b[1;33m]\u001b[0m\u001b[1;33m\u001b[0m\u001b[1;33m\u001b[0m\u001b[0m\n\u001b[0;32m      3\u001b[0m \u001b[0mtau_2_list\u001b[0m \u001b[1;33m=\u001b[0m \u001b[1;33m[\u001b[0m\u001b[0mi\u001b[0m \u001b[1;32mfor\u001b[0m \u001b[0mi\u001b[0m \u001b[1;32min\u001b[0m \u001b[0mrange\u001b[0m\u001b[1;33m(\u001b[0m\u001b[1;36m1\u001b[0m\u001b[1;33m,\u001b[0m\u001b[1;36m11\u001b[0m\u001b[1;33m)\u001b[0m\u001b[1;33m]\u001b[0m\u001b[1;33m\u001b[0m\u001b[1;33m\u001b[0m\u001b[0m\n\u001b[1;32m----> 4\u001b[1;33m \u001b[0margs\u001b[0m \u001b[1;33m=\u001b[0m \u001b[0mlist\u001b[0m\u001b[1;33m(\u001b[0m\u001b[0mproduct\u001b[0m\u001b[1;33m(\u001b[0m\u001b[0mtau_1_list\u001b[0m\u001b[1;33m,\u001b[0m \u001b[0mtau_2_list\u001b[0m\u001b[1;33m)\u001b[0m\u001b[1;33m)\u001b[0m\u001b[1;33m\u001b[0m\u001b[1;33m\u001b[0m\u001b[0m\n\u001b[0m\u001b[0;32m      5\u001b[0m \u001b[1;33m\u001b[0m\u001b[0m\n\u001b[0;32m      6\u001b[0m \u001b[1;32mfor\u001b[0m \u001b[0marg\u001b[0m \u001b[1;32min\u001b[0m \u001b[0margs\u001b[0m\u001b[1;33m:\u001b[0m\u001b[1;33m\u001b[0m\u001b[1;33m\u001b[0m\u001b[0m\n",
      "\u001b[1;31mNameError\u001b[0m: name 'product' is not defined"
     ]
    }
   ],
   "source": [
    "# args\n",
    "tau_1_list = ['rf','tree','logistic','knn','MLP']\n",
    "tau_2_list = [i for i in range(1,11)]\n",
    "args = list(product(tau_1_list, tau_2_list))\n",
    "\n",
    "for arg in args:\n",
    "    t1,t2 = arg\n",
    "    fonction(t1, t2)"
   ]
  },
  {
   "cell_type": "code",
   "execution_count": null,
   "id": "cf48a877-2208-413d-94c0-e02a9fc17679",
   "metadata": {},
   "outputs": [],
   "source": []
  }
 ],
 "metadata": {
  "kernelspec": {
   "display_name": "Python 3 (ipykernel)",
   "language": "python",
   "name": "python3"
  },
  "language_info": {
   "codemirror_mode": {
    "name": "ipython",
    "version": 3
   },
   "file_extension": ".py",
   "mimetype": "text/x-python",
   "name": "python",
   "nbconvert_exporter": "python",
   "pygments_lexer": "ipython3",
   "version": "3.9.13"
  }
 },
 "nbformat": 4,
 "nbformat_minor": 5
}
