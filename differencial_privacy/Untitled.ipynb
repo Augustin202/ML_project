{
 "cells": [
  {
   "cell_type": "code",
   "execution_count": 1,
   "id": "c8e5ae71-5579-4753-9178-a8b8b1653724",
   "metadata": {},
   "outputs": [
    {
     "name": "stdout",
     "output_type": "stream",
     "text": [
      "C:\\Users\\guspo\\Augustin\\X\\4A\\Cours\\ML\\ML_project\\differencial_privacy\n",
      "C:\\Users\\guspo\\Augustin\\X\\4A\\Cours\\ML\\ML_project\n"
     ]
    },
    {
     "name": "stderr",
     "output_type": "stream",
     "text": [
      "10it [00:03,  3.05it/s]\n"
     ]
    },
    {
     "name": "stdout",
     "output_type": "stream",
     "text": [
      "Classification Report, test set:\n",
      "              precision    recall  f1-score   support\n",
      "\n",
      "           0       0.93      0.70      0.80       200\n",
      "           1       0.76      0.95      0.85       200\n",
      "\n",
      "    accuracy                           0.83       400\n",
      "   macro avg       0.85      0.83      0.82       400\n",
      "weighted avg       0.85      0.83      0.82       400\n",
      "\n"
     ]
    }
   ],
   "source": [
    "import os\n",
    "import sys\n",
    "chemin=os.getcwd()\n",
    "print(os.getcwd())\n",
    "os.chdir('./..')\n",
    "print(os.getcwd())\n",
    "sys.path.append(os.getcwd())\n",
    "from hack_class import *\n",
    "os.chdir(chemin)\n",
    "sys.path.append(os.getcwd())\n",
    "import pandas as pd\n",
    "import numpy as np\n",
    "from tqdm import tqdm\n",
    "import random\n",
    "import json\n",
    "\n",
    "from sklearn.base import clone\n",
    "from sklearn.metrics import accuracy_score, confusion_matrix, classification_report\n",
    "from sklearn.model_selection import train_test_split\n",
    "from sklearn.tree import DecisionTreeClassifier\n",
    "from sklearn.ensemble import RandomForestClassifier\n",
    "from sklearn.linear_model import LogisticRegression\n",
    "from sklearn.neural_network import MLPClassifier\n",
    "\n",
    "from sklearn.datasets import fetch_openml\n",
    "\n",
    "class Rf():\n",
    "    def __init__(self, var):\n",
    "        self.model=RandomForestClassifier()\n",
    "        self.var = var\n",
    "        \n",
    "    def fit(self, X, y):\n",
    "        self.model.fit(X, y)\n",
    "    \n",
    "    def predict_proba(self, X):\n",
    "        prob = self.model.predict_proba(X)\n",
    "        return prob + np.random.normal(0, self.var , size=prob.shape)\n",
    "    \n",
    "    def predict(self, X):\n",
    "        self.model.predict(X)\n",
    "        \n",
    "        \n",
    "        \n",
    "args=['0.0','1']\n",
    "\n",
    "#args = sys.argv[1:]\n",
    "var = float(args[0])\n",
    "num_fichier = int(args[1])\n",
    "\n",
    "\n",
    "X, y = fetch_openml('mnist_784', version=1, return_X_y=True, parser='auto')\n",
    "X = (X/255. - .5)*2\n",
    "\n",
    "#Target model\n",
    "X_train, X_test, y_train, y_test = train_test_split(X, y, test_size=200, train_size=200,stratify = y)\n",
    "rf_clf = Rf(var)\n",
    "rf_clf.fit(X_train, y_train)\n",
    "\n",
    "\n",
    "reports=[]\n",
    "for i in range(1):\n",
    "    #on split les données en deux, on garde le set shadow qui va servir à entrainer les shadow models\n",
    "    X_shadow, temp, y_shadow, temp2 = train_test_split(X, y, test_size=100, train_size=100,stratify = y)\n",
    "\n",
    "    models = [Rf(var) for i in range(2)]\n",
    "    test = HackingModel(RandomForestClassifier(n_estimators=100),models, X_shadow, y_shadow,\n",
    "                      list(set(y_shadow)),list(set(y_train)) )\n",
    "    report=test.print_score_hacking(X_train,y_train, X_test,y_test, rf_clf)\n",
    "    reports.append(report)\n",
    "\n",
    "# save\n",
    "filename = \"./data/report_privacy_{}_{}.json\".format(var, num_fichier)\n",
    "with open(filename, \"w\") as json_file:\n",
    "    json.dump(reports, json_file, indent=2)\n"
   ]
  },
  {
   "cell_type": "code",
   "execution_count": null,
   "id": "9cc2afd5-86af-4eef-9ffc-3bc100df8c51",
   "metadata": {},
   "outputs": [],
   "source": []
  },
  {
   "cell_type": "code",
   "execution_count": null,
   "id": "20c8a929-0a63-4955-aa92-e6199c65a9a2",
   "metadata": {},
   "outputs": [],
   "source": []
  }
 ],
 "metadata": {
  "kernelspec": {
   "display_name": "Python 3 (ipykernel)",
   "language": "python",
   "name": "python3"
  },
  "language_info": {
   "codemirror_mode": {
    "name": "ipython",
    "version": 3
   },
   "file_extension": ".py",
   "mimetype": "text/x-python",
   "name": "python",
   "nbconvert_exporter": "python",
   "pygments_lexer": "ipython3",
   "version": "3.9.13"
  }
 },
 "nbformat": 4,
 "nbformat_minor": 5
}
