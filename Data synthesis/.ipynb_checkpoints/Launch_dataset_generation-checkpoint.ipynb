{
 "cells": [
  {
   "cell_type": "markdown",
   "metadata": {
    "id": "e7t6FwtlxXa2"
   },
   "source": [
    "This file implements Algorithm 1 from the report. We use the MNIST database, along a logistic regression to illustrate the way its limitations."
   ]
  },
  {
   "cell_type": "code",
   "execution_count": 32,
   "metadata": {
    "id": "JfWv4pdbwwh3"
   },
   "outputs": [],
   "source": [
    "from sklearn.datasets import fetch_openml\n",
    "from sklearn.linear_model import LogisticRegression\n",
    "from sklearn.model_selection import train_test_split\n",
    "import numpy as np\n",
    "from tqdm import tqdm\n",
    "import matplotlib.pyplot as plt"
   ]
  },
  {
   "cell_type": "code",
   "execution_count": 14,
   "metadata": {
    "id": "BSWYM1mZwJTP"
   },
   "outputs": [],
   "source": [
    "XX, y = fetch_openml('mnist_784', version=1, return_X_y=True, parser='auto')"
   ]
  },
  {
   "cell_type": "code",
   "execution_count": 15,
   "metadata": {
    "id": "xFVL5qMTwej4"
   },
   "outputs": [],
   "source": [
    "X_not_normalized = XX.values\n",
    "X = XX.values\n",
    "y = y.astype(int).values\n",
    "X = (X/255. - .5)*2\n",
    "\n",
    "X_train_target, X_test_target, y_train_target, y_test_target = train_test_split(X, y, test_size=0.5)"
   ]
  },
  {
   "cell_type": "code",
   "execution_count": 18,
   "metadata": {
    "colab": {
     "base_uri": "https://localhost:8080/",
     "height": 214
    },
    "id": "YpGWUUxIwgGT",
    "outputId": "9cf8c128-3e6e-4d3f-b37b-aec618471fa8"
   },
   "outputs": [
    {
     "name": "stderr",
     "output_type": "stream",
     "text": [
      "/usr/local/lib/python3.10/dist-packages/sklearn/linear_model/_logistic.py:458: ConvergenceWarning: lbfgs failed to converge (status=1):\n",
      "STOP: TOTAL NO. of ITERATIONS REACHED LIMIT.\n",
      "\n",
      "Increase the number of iterations (max_iter) or scale the data as shown in:\n",
      "    https://scikit-learn.org/stable/modules/preprocessing.html\n",
      "Please also refer to the documentation for alternative solver options:\n",
      "    https://scikit-learn.org/stable/modules/linear_model.html#logistic-regression\n",
      "  n_iter_i = _check_optimize_result(\n"
     ]
    },
    {
     "data": {
      "text/html": [
       "<style>#sk-container-id-1 {color: black;background-color: white;}#sk-container-id-1 pre{padding: 0;}#sk-container-id-1 div.sk-toggleable {background-color: white;}#sk-container-id-1 label.sk-toggleable__label {cursor: pointer;display: block;width: 100%;margin-bottom: 0;padding: 0.3em;box-sizing: border-box;text-align: center;}#sk-container-id-1 label.sk-toggleable__label-arrow:before {content: \"▸\";float: left;margin-right: 0.25em;color: #696969;}#sk-container-id-1 label.sk-toggleable__label-arrow:hover:before {color: black;}#sk-container-id-1 div.sk-estimator:hover label.sk-toggleable__label-arrow:before {color: black;}#sk-container-id-1 div.sk-toggleable__content {max-height: 0;max-width: 0;overflow: hidden;text-align: left;background-color: #f0f8ff;}#sk-container-id-1 div.sk-toggleable__content pre {margin: 0.2em;color: black;border-radius: 0.25em;background-color: #f0f8ff;}#sk-container-id-1 input.sk-toggleable__control:checked~div.sk-toggleable__content {max-height: 200px;max-width: 100%;overflow: auto;}#sk-container-id-1 input.sk-toggleable__control:checked~label.sk-toggleable__label-arrow:before {content: \"▾\";}#sk-container-id-1 div.sk-estimator input.sk-toggleable__control:checked~label.sk-toggleable__label {background-color: #d4ebff;}#sk-container-id-1 div.sk-label input.sk-toggleable__control:checked~label.sk-toggleable__label {background-color: #d4ebff;}#sk-container-id-1 input.sk-hidden--visually {border: 0;clip: rect(1px 1px 1px 1px);clip: rect(1px, 1px, 1px, 1px);height: 1px;margin: -1px;overflow: hidden;padding: 0;position: absolute;width: 1px;}#sk-container-id-1 div.sk-estimator {font-family: monospace;background-color: #f0f8ff;border: 1px dotted black;border-radius: 0.25em;box-sizing: border-box;margin-bottom: 0.5em;}#sk-container-id-1 div.sk-estimator:hover {background-color: #d4ebff;}#sk-container-id-1 div.sk-parallel-item::after {content: \"\";width: 100%;border-bottom: 1px solid gray;flex-grow: 1;}#sk-container-id-1 div.sk-label:hover label.sk-toggleable__label {background-color: #d4ebff;}#sk-container-id-1 div.sk-serial::before {content: \"\";position: absolute;border-left: 1px solid gray;box-sizing: border-box;top: 0;bottom: 0;left: 50%;z-index: 0;}#sk-container-id-1 div.sk-serial {display: flex;flex-direction: column;align-items: center;background-color: white;padding-right: 0.2em;padding-left: 0.2em;position: relative;}#sk-container-id-1 div.sk-item {position: relative;z-index: 1;}#sk-container-id-1 div.sk-parallel {display: flex;align-items: stretch;justify-content: center;background-color: white;position: relative;}#sk-container-id-1 div.sk-item::before, #sk-container-id-1 div.sk-parallel-item::before {content: \"\";position: absolute;border-left: 1px solid gray;box-sizing: border-box;top: 0;bottom: 0;left: 50%;z-index: -1;}#sk-container-id-1 div.sk-parallel-item {display: flex;flex-direction: column;z-index: 1;position: relative;background-color: white;}#sk-container-id-1 div.sk-parallel-item:first-child::after {align-self: flex-end;width: 50%;}#sk-container-id-1 div.sk-parallel-item:last-child::after {align-self: flex-start;width: 50%;}#sk-container-id-1 div.sk-parallel-item:only-child::after {width: 0;}#sk-container-id-1 div.sk-dashed-wrapped {border: 1px dashed gray;margin: 0 0.4em 0.5em 0.4em;box-sizing: border-box;padding-bottom: 0.4em;background-color: white;}#sk-container-id-1 div.sk-label label {font-family: monospace;font-weight: bold;display: inline-block;line-height: 1.2em;}#sk-container-id-1 div.sk-label-container {text-align: center;}#sk-container-id-1 div.sk-container {/* jupyter's `normalize.less` sets `[hidden] { display: none; }` but bootstrap.min.css set `[hidden] { display: none !important; }` so we also need the `!important` here to be able to override the default hidden behavior on the sphinx rendered scikit-learn.org. See: https://github.com/scikit-learn/scikit-learn/issues/21755 */display: inline-block !important;position: relative;}#sk-container-id-1 div.sk-text-repr-fallback {display: none;}</style><div id=\"sk-container-id-1\" class=\"sk-top-container\"><div class=\"sk-text-repr-fallback\"><pre>LogisticRegression()</pre><b>In a Jupyter environment, please rerun this cell to show the HTML representation or trust the notebook. <br />On GitHub, the HTML representation is unable to render, please try loading this page with nbviewer.org.</b></div><div class=\"sk-container\" hidden><div class=\"sk-item\"><div class=\"sk-estimator sk-toggleable\"><input class=\"sk-toggleable__control sk-hidden--visually\" id=\"sk-estimator-id-1\" type=\"checkbox\" checked><label for=\"sk-estimator-id-1\" class=\"sk-toggleable__label sk-toggleable__label-arrow\">LogisticRegression</label><div class=\"sk-toggleable__content\"><pre>LogisticRegression()</pre></div></div></div></div></div>"
      ],
      "text/plain": [
       "LogisticRegression()"
      ]
     },
     "execution_count": 18,
     "metadata": {},
     "output_type": "execute_result"
    }
   ],
   "source": [
    "logistic_clf = LogisticRegression()\n",
    "logistic_clf.fit(X_train_target, y_train_target)"
   ]
  },
  {
   "cell_type": "code",
   "execution_count": 29,
   "metadata": {
    "colab": {
     "base_uri": "https://localhost:8080/"
    },
    "id": "A8LUkOfswj7z",
    "outputId": "56f3e620-4f9e-4184-caec-97a5b1f1c3e9"
   },
   "outputs": [
    {
     "name": "stderr",
     "output_type": "stream",
     "text": [
      "100%|██████████| 70000/70000 [00:55<00:00, 1258.51it/s]\n"
     ]
    }
   ],
   "source": [
    "#we compute the probability distribution of each pixel.\n",
    "list_prob = np.zeros((784,256))\n",
    "for j in tqdm(range(len(X_not_normalized))):\n",
    "  for i in range(len(X_not_normalized[0])):\n",
    "    list_prob[i,X_not_normalized[j][i]] += 1\n"
   ]
  },
  {
   "cell_type": "code",
   "execution_count": 26,
   "metadata": {
    "id": "wcjV2eWOwmEY"
   },
   "outputs": [],
   "source": [
    "#There are two ways of generating a sample\n",
    "# - method 1 is totally random\n",
    "# - method 2 uses the probability distribution of each pixel (that has been computed using the dataset)\n",
    "def random_from_database1():\n",
    "  return (np.random.randint(0, 256, 784)/255 -0.5)*2\n",
    "\n",
    "def random_from_database2():\n",
    "  res = np.zeros(784)\n",
    "  for i in range(len(res)):\n",
    "    res[i] = np.random.choice(np.arange(256), p=list_prob[i]/70000)\n",
    "  return res\n",
    "\n",
    "\n",
    "def random_from_database_partial1(y,k):\n",
    "  indexes = np.random.randint(0, 784, k)\n",
    "  for index in indexes:\n",
    "    y[index] = (np.random.randint(0,256)/255 - 0.5)*2\n",
    "  return y\n",
    "\n",
    "def random_from_database_partial2(y,k):\n",
    "  indexes = np.random.randint(0, 784, k)\n",
    "  for index in indexes:\n",
    "    y[index] = np.random.choice(np.arange(256), p=list_prob[index]/70000)\n",
    "  return y"
   ]
  },
  {
   "cell_type": "code",
   "execution_count": 27,
   "metadata": {
    "id": "408ltRamwobz"
   },
   "outputs": [],
   "source": [
    "#the algorithm itself\n",
    "iter_max = 200_000\n",
    "k_min = 4\n",
    "rej_max = 10\n",
    "k_max = 128\n",
    "list_conf = [0.095*i for i in range(6,11)]\n",
    "def synthesise_class_c(model,c):\n",
    "  fig, axes = plt.subplots(nrows=1, ncols=5, figsize=(15, 6))\n",
    "  axes = axes.flatten()\n",
    "\n",
    "  for r in tqdm(range(len(list_conf))):\n",
    "    conf_min = list_conf[r]\n",
    "\n",
    "    x = random_from_database2()\n",
    "    y_c_star = 0\n",
    "    j = 0\n",
    "    k = k_max\n",
    "    done = False\n",
    "    for i in range(iter_max):\n",
    "      y = model.predict_proba(x.reshape(1, -1))[0]\n",
    "      if(y[c] >= y_c_star):\n",
    "        if(y[c] > conf_min and c == np.argmax(y)):\n",
    "          if(np.random.rand() < y[c]):\n",
    "            done = True\n",
    "            break\n",
    "        x_star = x\n",
    "        y_c_star = y[c]\n",
    "        j = 0\n",
    "      else:\n",
    "        j += 1\n",
    "        if(j > rej_max):\n",
    "          k = np.max([k_min,int(k/2) +1])\n",
    "          j = 0\n",
    "      #we select k parameters that we modifiy\n",
    "      x = random_from_database_partial2(x_star,k)\n",
    "\n",
    "    if(done == False):\n",
    "      x = np.zeros(784)\n",
    "    axes[r].imshow(x.reshape(28,28),cmap = \"Greys\")\n",
    "    axes[r].axis(\"off\")\n",
    "    axes[r].set_title(r'$conf_{{min}}  = {:.2f}$'.format(round(conf_min,2)))\n",
    "  plt.tight_layout()\n",
    "  plt.show()"
   ]
  },
  {
   "cell_type": "code",
   "execution_count": 33,
   "metadata": {
    "colab": {
     "base_uri": "https://localhost:8080/",
     "height": 345
    },
    "id": "MoJ8YI9lwrak",
    "outputId": "029b0776-0cd9-491b-d242-0ce3a2122863"
   },
   "outputs": [
    {
     "name": "stderr",
     "output_type": "stream",
     "text": [
      "100%|██████████| 5/5 [00:00<00:00, 24.21it/s]\n"
     ]
    },
    {
     "data": {
      "image/png": "[encoded data removed]",
      "text/plain": [
       "<Figure size 1500x600 with 5 Axes>"
      ]
     },
     "metadata": {},
     "output_type": "display_data"
    }
   ],
   "source": [
    "res = synthesise_class_c(logistic_clf,8)"
   ]
  }
 ],
 "metadata": {
  "colab": {
   "provenance": []
  },
  "kernelspec": {
   "display_name": "Python 3 (ipykernel)",
   "language": "python",
   "name": "python3"
  },
  "language_info": {
   "codemirror_mode": {
    "name": "ipython",
    "version": 3
   },
   "file_extension": ".py",
   "mimetype": "text/x-python",
   "name": "python",
   "nbconvert_exporter": "python",
   "pygments_lexer": "ipython3",
   "version": "3.9.13"
  }
 },
 "nbformat": 4,
 "nbformat_minor": 4
}
