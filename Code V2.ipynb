{
 "cells": [
  {
   "cell_type": "markdown",
   "id": "ed5f9767",
   "metadata": {
    "id": "fWeB5ow8OYLI"
   },
   "source": [
    "#Imports"
   ]
  },
  {
   "cell_type": "code",
   "execution_count": 1,
   "id": "9ef1263b",
   "metadata": {
    "colab": {
     "background_save": true,
     "base_uri": "https://localhost:8080/"
    },
    "executionInfo": {
     "elapsed": 9305,
     "status": "ok",
     "timestamp": 1703669591020,
     "user": {
      "displayName": "Max Kramkimel",
      "userId": "08772700917866145302"
     },
     "user_tz": -60
    },
    "id": "FKmCJ1T7EIWi"
   },
   "outputs": [
    {
     "name": "stdout",
     "output_type": "stream",
     "text": [
      "Requirement already satisfied: ucimlrepo in c:\\users\\guspo\\anaconda3\\lib\\site-packages (0.0.3)\n"
     ]
    }
   ],
   "source": [
    "!pip install ucimlrepo"
   ]
  },
  {
   "cell_type": "code",
   "execution_count": 2,
   "id": "9da9b780",
   "metadata": {
    "colab": {
     "background_save": true
    },
    "executionInfo": {
     "elapsed": 11,
     "status": "ok",
     "timestamp": 1704303384801,
     "user": {
      "displayName": "Augustin Poissonnier",
      "userId": "03822151421310669634"
     },
     "user_tz": -60
    },
    "id": "034a09a2-53af-455d-ae2e-6a13b1cadd14"
   },
   "outputs": [],
   "source": [
    "#pip install ucimlrepo\n",
    "import pandas as pd\n",
    "import numpy as np\n",
    "from ucimlrepo import fetch_ucirepo\n",
    "import os\n",
    "\n",
    "import matplotlib.pyplot as plt\n",
    "from collections import Counter\n",
    "import sklearn\n",
    "import sklearn.cluster\n",
    "import seaborn as sns\n",
    "from sklearn.cluster import KMeans\n",
    "from sklearn.preprocessing import MultiLabelBinarizer, StandardScaler\n",
    "from sklearn.decomposition import PCA\n",
    "from sklearn.metrics import silhouette_samples, silhouette_score\n",
    "from scipy.cluster.hierarchy import dendrogram\n",
    "from sklearn.cluster import AgglomerativeClustering\n",
    "from sklearn.neighbors import KNeighborsClassifier\n",
    "from sklearn.tree import DecisionTreeClassifier\n",
    "from sklearn.ensemble import RandomForestClassifier\n",
    "from sklearn.model_selection import RandomizedSearchCV\n",
    "from sklearn.metrics import accuracy_score, confusion_matrix, classification_report\n",
    "from sklearn.model_selection import train_test_split\n",
    "from sklearn.linear_model import LogisticRegression\n",
    "from sklearn.neural_network import MLPClassifier\n",
    "from sklearn import clone\n",
    "from sklearn.exceptions import NotFittedError\n",
    "from tqdm import tqdm\n",
    "from sklearn.datasets import fetch_openml"
   ]
  },
  {
   "cell_type": "code",
   "execution_count": 3,
   "id": "ef9fcf0c",
   "metadata": {
    "colab": {
     "background_save": true
    },
    "id": "b84563e9-f0b4-4a93-9202-55bd2cedd80f"
   },
   "outputs": [],
   "source": [
    "#remove warning about future changes\n",
    "import warnings\n",
    "warnings.filterwarnings(\"ignore\", category=FutureWarning)"
   ]
  },
  {
   "cell_type": "markdown",
   "id": "b2197b85",
   "metadata": {
    "id": "9yLn1pqPOc5Y"
   },
   "source": [
    "#Data preprocessing"
   ]
  },
  {
   "cell_type": "code",
   "execution_count": 4,
   "id": "dd7842f0",
   "metadata": {
    "colab": {
     "background_save": true
    },
    "id": "9ed244ea-ab6b-43d6-82d8-57a1cb045058"
   },
   "outputs": [],
   "source": [
    "#this cell needs internet to download the adult dataset.\n",
    "#Otherwise the markdown cell below can be executed if the files have been downloaded and are stored on your computer\n",
    "adult = fetch_ucirepo(id=2)\n",
    "X = adult.data.features\n",
    "X['predic']= adult.data.targets"
   ]
  },
  {
   "cell_type": "markdown",
   "id": "a8506090",
   "metadata": {
    "id": "9de886a1-d70a-41c7-956d-00ba31ed93c0"
   },
   "source": [
    "data=open(r'adult\\adult.data', 'r').read()\n",
    "test=data.split('\\n')\n",
    "for i in range(len(test)):\n",
    "    test[i]=test[i].split(',')\n",
    "test=test[:-2]\n",
    "nom_col=['age','workclass','fnlwgt','education','education_num', 'marital-status','occupation','relationship',\n",
    "         'race','sex', 'capital-gain','capital-loss','hours-per-week', 'native-country', 'predic']\n",
    "X=pd.DataFrame(test, columns=nom_col)\n",
    "for i in nom_col:\n",
    "    X[i] = X[i].str.replace(' ', '',regex=False)\n",
    "passage_int=['age', 'fnlwgt', 'education_num', 'capital-gain','capital-loss','hours-per-week']\n",
    "X[passage_int]=X[passage_int].astype(int)\n",
    "X['sex'] = X['sex'].str.replace(' ', '',regex=False)\n",
    "X['predic'] = X['predic'].str.replace(' ', '',regex=False)"
   ]
  },
  {
   "cell_type": "code",
   "execution_count": 5,
   "id": "d8cdf5dc",
   "metadata": {
    "colab": {
     "background_save": true
    },
    "id": "714a6752-276c-42e8-aa5d-397f855684a2"
   },
   "outputs": [],
   "source": [
    "#technical cell, to remove few problems in text cells, and to delete the entries having non defined elements\n",
    "X = X.rename(columns=lambda x: x.replace('-', '_'))\n",
    "X['predic'] = X['predic'].str.replace('.', '',regex=False)\n",
    "X = X.dropna()\n",
    "X = X.reset_index(drop=True)"
   ]
  },
  {
   "cell_type": "code",
   "execution_count": 6,
   "id": "2f53cab5",
   "metadata": {
    "colab": {
     "background_save": true
    },
    "id": "4ebf1db7-02ab-4082-b4ee-0aa56d4cf751"
   },
   "outputs": [],
   "source": [
    "#creates a new database starting from adult : categorical variables are transformed into dummy variables (one column is created for each class, having one for the element belonging to this class)\n",
    "#the database is normalised\n",
    "\n",
    "X_bis = X.copy()\n",
    "X_bis['capital'] = X_bis['capital_gain']-X_bis['capital_loss']\n",
    "X_bis = X_bis.drop(columns=['education','capital_gain','capital_loss'])\n",
    "X_bis['sex'] = X_bis['sex'].map({'Male': 1, 'Female': 0})\n",
    "X_bis['predic'] = X_bis['predic'].map({'>50K': 1, '<=50K': 0})\n",
    "df_onehot = pd.get_dummies(X_bis[['workclass', 'marital_status', 'occupation', 'relationship','relationship','race','native_country']], drop_first=True)\n",
    "scaler = StandardScaler()\n",
    "X_bis['age'] = scaler.fit_transform(X_bis['age'].values.reshape(-1, 1)).copy()\n",
    "X_bis['fnlwgt'] = scaler.fit_transform(X_bis['fnlwgt'].values.reshape(-1, 1)).copy()\n",
    "X_bis['hours_per_week'] = scaler.fit_transform(X_bis['hours_per_week'].values.reshape(-1, 1)).copy()\n",
    "X_bis['education_num'] = scaler.fit_transform(X_bis['education_num'].values.reshape(-1, 1)).copy()\n",
    "X_bis['capital'] = scaler.fit_transform(X_bis['capital'].values.reshape(-1, 1)).copy()\n",
    "data_processed = pd.concat([X_bis, df_onehot], axis=1)\n",
    "data_processed = data_processed.drop(columns=['workclass', 'marital_status', 'occupation', 'relationship','relationship','race','native_country'])"
   ]
  },
  {
   "cell_type": "code",
   "execution_count": 7,
   "id": "f3b8c2f0",
   "metadata": {
    "colab": {
     "background_save": true
    },
    "id": "81fee83d-7fba-40a6-839e-146e5b5aa12e"
   },
   "outputs": [],
   "source": [
    "#Création of the features database and the answer database\n",
    "X_processed = data_processed.copy()\n",
    "y_processed = X_processed['predic']\n",
    "X_processed = X_processed.drop(columns=['predic'])"
   ]
  },
  {
   "cell_type": "code",
   "execution_count": 11,
   "id": "3e3a6116-e7f0-43bc-9ab0-ab493039cb03",
   "metadata": {},
   "outputs": [
    {
     "data": {
      "text/plain": [
       "[]"
      ]
     },
     "execution_count": 11,
     "metadata": {},
     "output_type": "execute_result"
    }
   ],
   "source": [
    "list(set(y_processed))\n",
    "list()"
   ]
  },
  {
   "cell_type": "code",
   "execution_count": 38,
   "id": "027902ba-de59-45dc-8398-f793169ab440",
   "metadata": {},
   "outputs": [
    {
     "data": {
      "text/plain": [
       "0        0\n",
       "1        0\n",
       "2        0\n",
       "3        0\n",
       "4        0\n",
       "        ..\n",
       "47616    0\n",
       "47617    0\n",
       "47618    0\n",
       "47619    0\n",
       "47620    1\n",
       "Name: predic, Length: 47621, dtype: int64"
      ]
     },
     "execution_count": 38,
     "metadata": {},
     "output_type": "execute_result"
    }
   ],
   "source": [
    "y_processed"
   ]
  },
  {
   "cell_type": "code",
   "execution_count": 41,
   "id": "779c893e-4976-4579-805c-28ce6b3da5de",
   "metadata": {},
   "outputs": [
    {
     "data": {
      "text/plain": [
       "[0, 1]"
      ]
     },
     "execution_count": 41,
     "metadata": {},
     "output_type": "execute_result"
    }
   ],
   "source": [
    "X_processed.to_csv('X_adult.csv', index=False)\n",
    "y_test = pd.read_csv('y_adult.csv')['predic']\n",
    "list(set(y_test))"
   ]
  },
  {
   "cell_type": "code",
   "execution_count": 40,
   "id": "ad280e1d-de43-46de-93c2-f4929ad85a5e",
   "metadata": {},
   "outputs": [
    {
     "data": {
      "text/plain": [
       "0        0\n",
       "1        0\n",
       "2        0\n",
       "3        0\n",
       "4        0\n",
       "        ..\n",
       "47616    0\n",
       "47617    0\n",
       "47618    0\n",
       "47619    0\n",
       "47620    1\n",
       "Name: predic, Length: 47621, dtype: int64"
      ]
     },
     "execution_count": 40,
     "metadata": {},
     "output_type": "execute_result"
    }
   ],
   "source": [
    "y_test"
   ]
  },
  {
   "cell_type": "markdown",
   "id": "2b815028",
   "metadata": {
    "id": "01pZKXdSOvw0"
   },
   "source": [
    "#Algorithm"
   ]
  },
  {
   "cell_type": "markdown",
   "id": "0b5fab6d",
   "metadata": {
    "id": "42wwBdr9R8UD"
   },
   "source": [
    "This section corresponds to the algorithm presented in the paper. It is made of\n",
    "* a cell encoding the class ShadowModel. A shadow model is trained on given data, and creates a database made of data (data that was in the train set and data that was not) along with the answers (in probabilites) of this model.\n",
    "* a cell encoding the class ShadowModels. This class is going to create list of shadow models, and concatenate the databases they create.\n",
    "* a cell encoding the class HackingModel. This class uses the previous datasets, and trains a hacking algorithm for each value y possible."
   ]
  },
  {
   "cell_type": "markdown",
   "id": "010e72c6",
   "metadata": {
    "id": "dNPKaTNdPTNH"
   },
   "source": [
    "## Code"
   ]
  },
  {
   "cell_type": "code",
   "execution_count": 8,
   "id": "84fd2a76",
   "metadata": {
    "colab": {
     "background_save": true
    },
    "id": "13c9856f-6c5a-4965-b01e-a9efbaf378b3"
   },
   "outputs": [],
   "source": [
    "#This class describes only one shadow model\n",
    "class  ShadowModel:\n",
    "    #takes a sklearn model, and datasets for training and testing\n",
    "    #list_y_class is the list of values that y can take\n",
    "    def __init__(self, model, X_train, X_test, y_train, y_test, liste_y_class):\n",
    "        self.model = model\n",
    "        self.X_train = X_train\n",
    "        self.y_train = y_train\n",
    "        self.X_test = X_test\n",
    "        self.y_test = y_test\n",
    "        self.liste_y_class = liste_y_class\n",
    "        self.model_fit(X_train, y_train)\n",
    "        self.model_pred_proba()\n",
    "\n",
    "    #fit self.model according to X and y\n",
    "    def model_fit(self,X,y):\n",
    "        self.X_train = X\n",
    "        self.y_train = y\n",
    "        self.model.fit(X, y)\n",
    "\n",
    "    #this function creates the database we will use for the hack model\n",
    "    #to every line of X, we have to add the prediction probabilities, and if wether or not it was in the training set\n",
    "    #this cell is a bit technical, because all the elements available in y might not match all the possible values of y\n",
    "    def model_pred_proba(self):\n",
    "        #results for the train set\n",
    "        predictions_df_temp = pd.DataFrame(self.model.predict_proba(self.X_train), columns=list(set(self.y_train))).reset_index(drop=True)\n",
    "        predictions_df = pd.DataFrame([[0]*len(self.liste_y_class) for i in range(len(predictions_df_temp))], columns=self.liste_y_class)\n",
    "        predictions_df[predictions_df_temp.columns]= predictions_df_temp\n",
    "\n",
    "        X_train_proba = pd.concat([self.X_train.reset_index(drop=True), predictions_df.reset_index(drop=True)],  axis=1)\n",
    "        X_train_proba['predic'] = self.y_train.reset_index(drop=True)\n",
    "        X_train_proba['entrainement'] = 1 #indicates that these elements where in the train set\n",
    "\n",
    "        #results for the test set\n",
    "        predictions_df_temp2 = pd.DataFrame(self.model.predict_proba(self.X_test), columns=list(set(self.y_train))).reset_index(drop=True)\n",
    "        predictions_df2 = pd.DataFrame([[0]*len(self.liste_y_class) for i in range(len(predictions_df_temp2))], columns=self.liste_y_class)\n",
    "        predictions_df2[predictions_df_temp2.columns]= predictions_df_temp2\n",
    "        X_test_proba = pd.concat([self.X_test.reset_index(drop=True), predictions_df2.reset_index(drop=True)],  axis=1)\n",
    "        X_test_proba['predic'] = self.y_test.reset_index(drop=True)\n",
    "        X_test_proba['entrainement'] = 0 #indicates that these elements where in the test set\n",
    "\n",
    "        self.X_proba = pd.concat([X_train_proba,X_test_proba])\n"
   ]
  },
  {
   "cell_type": "code",
   "execution_count": 9,
   "id": "a7ea233b",
   "metadata": {
    "colab": {
     "background_save": true
    },
    "id": "bc87727d-d8ba-4c6d-8050-b301003800f0"
   },
   "outputs": [],
   "source": [
    "#this class creates all the shadow models we are going to use. Hence it contains multiple shadow models.\n",
    "class ShadowModels:\n",
    "    #list_y_class contains all the values that y can take\n",
    "    def __init__(self, models, X, y,list_y_class):\n",
    "        self.X = X\n",
    "        self.y = y\n",
    "        self.list_y_class = list_y_class\n",
    "        self.fit_models(models, list_y_class)\n",
    "        self.concatenate_data()\n",
    "\n",
    "    #this functions create a shadow model for every element of the list models\n",
    "    #modelsis a list of sklearn models. Dataset are equally split into dataset and training set\n",
    "    def fit_models(self, models,list_y_class):\n",
    "        n = len(self.X)//2\n",
    "        self.shadow_models = []\n",
    "        for model in models:\n",
    "            X_train, X_test, y_train, y_test=train_test_split(self.X, self.y, test_size = n, train_size= n,stratify = self.y)\n",
    "            self.shadow_models.append(ShadowModel(model, X_train, X_test, y_train, y_test,list_y_class))\n",
    "\n",
    "    #this function concatenates all the databases created by the shadow models, in order to create a dataframe for the hacking model\n",
    "    def concatenate_data(self):\n",
    "        data_attaquant= self.shadow_models[0].X_proba\n",
    "        for shadow_model in self.shadow_models[1:]:\n",
    "            data_attaquant = pd.concat([data_attaquant, shadow_model.X_proba],ignore_index=True ,axis=0)\n",
    "        self.data_attaquant = data_attaquant"
   ]
  },
  {
   "cell_type": "code",
   "execution_count": 10,
   "id": "dde3a876",
   "metadata": {
    "colab": {
     "background_save": true
    },
    "id": "a59f5505-122f-46dc-a9e2-c9b0005b31ec"
   },
   "outputs": [],
   "source": [
    "#this class trains the hacking model\n",
    "class HackingModel:\n",
    "\n",
    "    #entries : hack_model (sklearn model, the one we will train and will perform hacking), shadow_models (list of sklearn models that we will use as shadow models),\n",
    "    #list_y_class (all the values y can take), list_y_target_model (all the y values that were in the dataset used by the target model)\n",
    "    def __init__(self, hack_model, shadow_models, X, y, list_y_class,list_y_target_model):\n",
    "        self.X = X\n",
    "        self.y = y\n",
    "        self.list_y_class = list_y_class\n",
    "        self.list_y_target_model = list_y_target_model\n",
    "        #creation of an object ShadowModels that contains all the ShadowModel we will use for hacking\n",
    "        self.shadowmodels = ShadowModels(shadow_models, X, y, list_y_class)\n",
    "        self.hack_models = {}\n",
    "        #we create a hack_model for each class of y\n",
    "        for class_y in self.list_y_class:\n",
    "            self.hack_models[class_y] = clone(hack_model)\n",
    "\n",
    "        self.set_data_per_class()\n",
    "        self.fit_hack_models()\n",
    "\n",
    "    #creates a list of datasets, corresponding to each value that y can take\n",
    "    def set_data_per_class(self):\n",
    "        self.list_entrainement = []\n",
    "        for class_y in self.list_y_class:\n",
    "            y = self.shadowmodels.data_attaquant[self.shadowmodels.data_attaquant['predic']==class_y].entrainement\n",
    "            X = self.shadowmodels.data_attaquant[self.shadowmodels.data_attaquant['predic']==class_y].drop(columns=['entrainement'])\n",
    "            X.columns = X.columns.astype(str)\n",
    "            self.list_entrainement.append([X,y])\n",
    "\n",
    "    #this function fits all the hack models (that is to say for every value of y)\n",
    "    def fit_hack_models(self):\n",
    "        for (datas, class_y) in tqdm(zip(self.list_entrainement, self.list_y_class)):\n",
    "            if len(datas[0])>0:\n",
    "                self.hack_models[class_y].fit(datas[0], datas[1])\n",
    "\n",
    "    #this function predicts for every x in X if the model was trained on it or not.\n",
    "    #For every value of y, we use the appropriated hack model\n",
    "    def predict(self, X):\n",
    "        predictions = []\n",
    "        for class_y in self.list_y_class:\n",
    "            X_class_y = X[X['predic']==class_y]\n",
    "            index = X_class_y.index\n",
    "            if len(X_class_y)>0:\n",
    "                #predictions.append(pd.DataFrame(self.hack_models[class_y].predict(X_class_y), index=index))\n",
    "                try:\n",
    "                    predictions.append(pd.DataFrame(self.hack_models[class_y].predict(X_class_y), index=index))\n",
    "                except NotFittedError as e:\n",
    "                    predictions.append(pd.DataFrame([0]*len(X_class_y), index=index))\n",
    "\n",
    "        return pd.concat(predictions,axis=0)\n",
    "\n",
    "    #this function, given X and y, predicts which elements were in the dataset or not.\n",
    "    #target model is the model we want to hack\n",
    "    def predict_target_model(self, X, y, target_model):\n",
    "        prob = target_model.predict_proba(X)\n",
    "        prob = pd.DataFrame(prob, columns=self.list_y_target_model).reset_index(drop=True)\n",
    "        prob_p = pd.DataFrame([[0]*len(self.list_y_class) for i in range(len(prob))], columns=self.list_y_class)\n",
    "        prob_p[prob.columns] = prob\n",
    "\n",
    "        X = pd.concat([X.reset_index(drop=True), prob_p.reset_index(drop=True)],  axis=1)\n",
    "        X['predic'] = y.reset_index(drop=True)\n",
    "        X.columns = X.columns.astype(str)\n",
    "        return self.predict(X)\n",
    "\n",
    "\n",
    "    #this function gives the classification report of the model\n",
    "    #X_in and y_in were in the training dataset of the target model, X_out and y_out were not\n",
    "    def print_score_hacking(self, X_in, y_in, X_out, y_out, target_model):\n",
    "      res_in = self.predict_target_model(X_in, y_in, target_model)[0]\n",
    "      res_out = self.predict_target_model(X_out, y_out, target_model)[0]\n",
    "      res = np.concatenate((res_in.values,res_out.values))\n",
    "      true_values = [1]*len(res_in) + [0]*len(res_out)\n",
    "\n",
    "      report = classification_report(true_values, res)\n",
    "      print(\"Classification Report, test set:\")\n",
    "      print(report)\n",
    "\n",
    "    def give_constants(self, X_in, y_in, X_out, y_out, target_model):\n",
    "      res_in = self.predict_target_model(X_in, y_in, target_model)[0]\n",
    "      res_out = self.predict_target_model(X_out, y_out, target_model)[0]\n",
    "      res = np.concatenate((res_in.values,res_out.values))\n",
    "      true_values = [1]*len(res_in) + [0]*len(res_out)\n",
    "\n",
    "      report = classification_report(true_values, res,output_dict = True)\n",
    "      return report['accuracy'],report['weighted avg']['f1-score']\n"
   ]
  },
  {
   "cell_type": "markdown",
   "id": "6c18bcf7",
   "metadata": {
    "id": "EHQbO7lhPOW1"
   },
   "source": [
    "## Test"
   ]
  },
  {
   "cell_type": "code",
   "execution_count": 11,
   "id": "a2ee7ba5",
   "metadata": {
    "colab": {
     "background_save": true,
     "base_uri": "https://localhost:8080/",
     "height": 214
    },
    "executionInfo": {
     "elapsed": 314,
     "status": "ok",
     "timestamp": 1703668751622,
     "user": {
      "displayName": "Max Kramkimel",
      "userId": "08772700917866145302"
     },
     "user_tz": -60
    },
    "id": "26b7fa42-6a08-488b-abc7-b1753036106d"
   },
   "outputs": [
    {
     "name": "stderr",
     "output_type": "stream",
     "text": [
      "C:\\Users\\guspo\\anaconda3\\lib\\site-packages\\sklearn\\linear_model\\_logistic.py:460: ConvergenceWarning: lbfgs failed to converge (status=1):\n",
      "STOP: TOTAL NO. of ITERATIONS REACHED LIMIT.\n",
      "\n",
      "Increase the number of iterations (max_iter) or scale the data as shown in:\n",
      "    https://scikit-learn.org/stable/modules/preprocessing.html\n",
      "Please also refer to the documentation for alternative solver options:\n",
      "    https://scikit-learn.org/stable/modules/linear_model.html#logistic-regression\n",
      "  n_iter_i = _check_optimize_result(\n"
     ]
    },
    {
     "data": {
      "text/html": [
       "<style>#sk-container-id-1 {color: black;}#sk-container-id-1 pre{padding: 0;}#sk-container-id-1 div.sk-toggleable {background-color: white;}#sk-container-id-1 label.sk-toggleable__label {cursor: pointer;display: block;width: 100%;margin-bottom: 0;padding: 0.3em;box-sizing: border-box;text-align: center;}#sk-container-id-1 label.sk-toggleable__label-arrow:before {content: \"▸\";float: left;margin-right: 0.25em;color: #696969;}#sk-container-id-1 label.sk-toggleable__label-arrow:hover:before {color: black;}#sk-container-id-1 div.sk-estimator:hover label.sk-toggleable__label-arrow:before {color: black;}#sk-container-id-1 div.sk-toggleable__content {max-height: 0;max-width: 0;overflow: hidden;text-align: left;background-color: #f0f8ff;}#sk-container-id-1 div.sk-toggleable__content pre {margin: 0.2em;color: black;border-radius: 0.25em;background-color: #f0f8ff;}#sk-container-id-1 input.sk-toggleable__control:checked~div.sk-toggleable__content {max-height: 200px;max-width: 100%;overflow: auto;}#sk-container-id-1 input.sk-toggleable__control:checked~label.sk-toggleable__label-arrow:before {content: \"▾\";}#sk-container-id-1 div.sk-estimator input.sk-toggleable__control:checked~label.sk-toggleable__label {background-color: #d4ebff;}#sk-container-id-1 div.sk-label input.sk-toggleable__control:checked~label.sk-toggleable__label {background-color: #d4ebff;}#sk-container-id-1 input.sk-hidden--visually {border: 0;clip: rect(1px 1px 1px 1px);clip: rect(1px, 1px, 1px, 1px);height: 1px;margin: -1px;overflow: hidden;padding: 0;position: absolute;width: 1px;}#sk-container-id-1 div.sk-estimator {font-family: monospace;background-color: #f0f8ff;border: 1px dotted black;border-radius: 0.25em;box-sizing: border-box;margin-bottom: 0.5em;}#sk-container-id-1 div.sk-estimator:hover {background-color: #d4ebff;}#sk-container-id-1 div.sk-parallel-item::after {content: \"\";width: 100%;border-bottom: 1px solid gray;flex-grow: 1;}#sk-container-id-1 div.sk-label:hover label.sk-toggleable__label {background-color: #d4ebff;}#sk-container-id-1 div.sk-serial::before {content: \"\";position: absolute;border-left: 1px solid gray;box-sizing: border-box;top: 0;bottom: 0;left: 50%;z-index: 0;}#sk-container-id-1 div.sk-serial {display: flex;flex-direction: column;align-items: center;background-color: white;padding-right: 0.2em;padding-left: 0.2em;position: relative;}#sk-container-id-1 div.sk-item {position: relative;z-index: 1;}#sk-container-id-1 div.sk-parallel {display: flex;align-items: stretch;justify-content: center;background-color: white;position: relative;}#sk-container-id-1 div.sk-item::before, #sk-container-id-1 div.sk-parallel-item::before {content: \"\";position: absolute;border-left: 1px solid gray;box-sizing: border-box;top: 0;bottom: 0;left: 50%;z-index: -1;}#sk-container-id-1 div.sk-parallel-item {display: flex;flex-direction: column;z-index: 1;position: relative;background-color: white;}#sk-container-id-1 div.sk-parallel-item:first-child::after {align-self: flex-end;width: 50%;}#sk-container-id-1 div.sk-parallel-item:last-child::after {align-self: flex-start;width: 50%;}#sk-container-id-1 div.sk-parallel-item:only-child::after {width: 0;}#sk-container-id-1 div.sk-dashed-wrapped {border: 1px dashed gray;margin: 0 0.4em 0.5em 0.4em;box-sizing: border-box;padding-bottom: 0.4em;background-color: white;}#sk-container-id-1 div.sk-label label {font-family: monospace;font-weight: bold;display: inline-block;line-height: 1.2em;}#sk-container-id-1 div.sk-label-container {text-align: center;}#sk-container-id-1 div.sk-container {/* jupyter's `normalize.less` sets `[hidden] { display: none; }` but bootstrap.min.css set `[hidden] { display: none !important; }` so we also need the `!important` here to be able to override the default hidden behavior on the sphinx rendered scikit-learn.org. See: https://github.com/scikit-learn/scikit-learn/issues/21755 */display: inline-block !important;position: relative;}#sk-container-id-1 div.sk-text-repr-fallback {display: none;}</style><div id=\"sk-container-id-1\" class=\"sk-top-container\"><div class=\"sk-text-repr-fallback\"><pre>LogisticRegression(C=100)</pre><b>In a Jupyter environment, please rerun this cell to show the HTML representation or trust the notebook. <br />On GitHub, the HTML representation is unable to render, please try loading this page with nbviewer.org.</b></div><div class=\"sk-container\" hidden><div class=\"sk-item\"><div class=\"sk-estimator sk-toggleable\"><input class=\"sk-toggleable__control sk-hidden--visually\" id=\"sk-estimator-id-1\" type=\"checkbox\" checked><label for=\"sk-estimator-id-1\" class=\"sk-toggleable__label sk-toggleable__label-arrow\">LogisticRegression</label><div class=\"sk-toggleable__content\"><pre>LogisticRegression(C=100)</pre></div></div></div></div></div>"
      ],
      "text/plain": [
       "LogisticRegression(C=100)"
      ]
     },
     "execution_count": 11,
     "metadata": {},
     "output_type": "execute_result"
    }
   ],
   "source": [
    "#Target model\n",
    "X_train, X_test, y_train, y_test = train_test_split(X_processed, y_processed, test_size=1000, train_size=1000,stratify = y_processed)\n",
    "logistic_clf = LogisticRegression(C= 100)\n",
    "logistic_clf.fit(X_train, y_train)"
   ]
  },
  {
   "cell_type": "code",
   "execution_count": 12,
   "id": "d11fea91",
   "metadata": {
    "colab": {
     "background_save": true
    },
    "id": "e76c37d4-1379-4797-9563-2df5d5b789d0"
   },
   "outputs": [],
   "source": [
    "#on split les données en deux, on garde le set shadow qui va servir à entrainer les shadow models\n",
    "X_shadow, temp, y_shadow, temp2 = train_test_split(X_processed, y_processed, test_size=10000, train_size=10000,stratify = y_processed)"
   ]
  },
  {
   "cell_type": "code",
   "execution_count": 13,
   "id": "17ed5b26",
   "metadata": {
    "colab": {
     "background_save": true,
     "base_uri": "https://localhost:8080/"
    },
    "executionInfo": {
     "elapsed": 396841,
     "status": "ok",
     "timestamp": 1703668713673,
     "user": {
      "displayName": "Max Kramkimel",
      "userId": "08772700917866145302"
     },
     "user_tz": -60
    },
    "id": "01e94062-0e1a-4622-a0b2-4cda92b279d6"
   },
   "outputs": [
    {
     "name": "stderr",
     "output_type": "stream",
     "text": [
      "C:\\Users\\guspo\\anaconda3\\lib\\site-packages\\sklearn\\linear_model\\_logistic.py:460: ConvergenceWarning: lbfgs failed to converge (status=1):\n",
      "STOP: TOTAL NO. of ITERATIONS REACHED LIMIT.\n",
      "\n",
      "Increase the number of iterations (max_iter) or scale the data as shown in:\n",
      "    https://scikit-learn.org/stable/modules/preprocessing.html\n",
      "Please also refer to the documentation for alternative solver options:\n",
      "    https://scikit-learn.org/stable/modules/linear_model.html#logistic-regression\n",
      "  n_iter_i = _check_optimize_result(\n",
      "C:\\Users\\guspo\\anaconda3\\lib\\site-packages\\sklearn\\linear_model\\_logistic.py:460: ConvergenceWarning: lbfgs failed to converge (status=1):\n",
      "STOP: TOTAL NO. of ITERATIONS REACHED LIMIT.\n",
      "\n",
      "Increase the number of iterations (max_iter) or scale the data as shown in:\n",
      "    https://scikit-learn.org/stable/modules/preprocessing.html\n",
      "Please also refer to the documentation for alternative solver options:\n",
      "    https://scikit-learn.org/stable/modules/linear_model.html#logistic-regression\n",
      "  n_iter_i = _check_optimize_result(\n",
      "C:\\Users\\guspo\\anaconda3\\lib\\site-packages\\sklearn\\linear_model\\_logistic.py:460: ConvergenceWarning: lbfgs failed to converge (status=1):\n",
      "STOP: TOTAL NO. of ITERATIONS REACHED LIMIT.\n",
      "\n",
      "Increase the number of iterations (max_iter) or scale the data as shown in:\n",
      "    https://scikit-learn.org/stable/modules/preprocessing.html\n",
      "Please also refer to the documentation for alternative solver options:\n",
      "    https://scikit-learn.org/stable/modules/linear_model.html#logistic-regression\n",
      "  n_iter_i = _check_optimize_result(\n",
      "C:\\Users\\guspo\\anaconda3\\lib\\site-packages\\sklearn\\linear_model\\_logistic.py:460: ConvergenceWarning: lbfgs failed to converge (status=1):\n",
      "STOP: TOTAL NO. of ITERATIONS REACHED LIMIT.\n",
      "\n",
      "Increase the number of iterations (max_iter) or scale the data as shown in:\n",
      "    https://scikit-learn.org/stable/modules/preprocessing.html\n",
      "Please also refer to the documentation for alternative solver options:\n",
      "    https://scikit-learn.org/stable/modules/linear_model.html#logistic-regression\n",
      "  n_iter_i = _check_optimize_result(\n",
      "C:\\Users\\guspo\\anaconda3\\lib\\site-packages\\sklearn\\linear_model\\_logistic.py:460: ConvergenceWarning: lbfgs failed to converge (status=1):\n",
      "STOP: TOTAL NO. of ITERATIONS REACHED LIMIT.\n",
      "\n",
      "Increase the number of iterations (max_iter) or scale the data as shown in:\n",
      "    https://scikit-learn.org/stable/modules/preprocessing.html\n",
      "Please also refer to the documentation for alternative solver options:\n",
      "    https://scikit-learn.org/stable/modules/linear_model.html#logistic-regression\n",
      "  n_iter_i = _check_optimize_result(\n",
      "C:\\Users\\guspo\\anaconda3\\lib\\site-packages\\sklearn\\linear_model\\_logistic.py:460: ConvergenceWarning: lbfgs failed to converge (status=1):\n",
      "STOP: TOTAL NO. of ITERATIONS REACHED LIMIT.\n",
      "\n",
      "Increase the number of iterations (max_iter) or scale the data as shown in:\n",
      "    https://scikit-learn.org/stable/modules/preprocessing.html\n",
      "Please also refer to the documentation for alternative solver options:\n",
      "    https://scikit-learn.org/stable/modules/linear_model.html#logistic-regression\n",
      "  n_iter_i = _check_optimize_result(\n",
      "C:\\Users\\guspo\\anaconda3\\lib\\site-packages\\sklearn\\linear_model\\_logistic.py:460: ConvergenceWarning: lbfgs failed to converge (status=1):\n",
      "STOP: TOTAL NO. of ITERATIONS REACHED LIMIT.\n",
      "\n",
      "Increase the number of iterations (max_iter) or scale the data as shown in:\n",
      "    https://scikit-learn.org/stable/modules/preprocessing.html\n",
      "Please also refer to the documentation for alternative solver options:\n",
      "    https://scikit-learn.org/stable/modules/linear_model.html#logistic-regression\n",
      "  n_iter_i = _check_optimize_result(\n",
      "C:\\Users\\guspo\\anaconda3\\lib\\site-packages\\sklearn\\linear_model\\_logistic.py:460: ConvergenceWarning: lbfgs failed to converge (status=1):\n",
      "STOP: TOTAL NO. of ITERATIONS REACHED LIMIT.\n",
      "\n",
      "Increase the number of iterations (max_iter) or scale the data as shown in:\n",
      "    https://scikit-learn.org/stable/modules/preprocessing.html\n",
      "Please also refer to the documentation for alternative solver options:\n",
      "    https://scikit-learn.org/stable/modules/linear_model.html#logistic-regression\n",
      "  n_iter_i = _check_optimize_result(\n",
      "C:\\Users\\guspo\\anaconda3\\lib\\site-packages\\sklearn\\linear_model\\_logistic.py:460: ConvergenceWarning: lbfgs failed to converge (status=1):\n",
      "STOP: TOTAL NO. of ITERATIONS REACHED LIMIT.\n",
      "\n",
      "Increase the number of iterations (max_iter) or scale the data as shown in:\n",
      "    https://scikit-learn.org/stable/modules/preprocessing.html\n",
      "Please also refer to the documentation for alternative solver options:\n",
      "    https://scikit-learn.org/stable/modules/linear_model.html#logistic-regression\n",
      "  n_iter_i = _check_optimize_result(\n",
      "C:\\Users\\guspo\\anaconda3\\lib\\site-packages\\sklearn\\linear_model\\_logistic.py:460: ConvergenceWarning: lbfgs failed to converge (status=1):\n",
      "STOP: TOTAL NO. of ITERATIONS REACHED LIMIT.\n",
      "\n",
      "Increase the number of iterations (max_iter) or scale the data as shown in:\n",
      "    https://scikit-learn.org/stable/modules/preprocessing.html\n",
      "Please also refer to the documentation for alternative solver options:\n",
      "    https://scikit-learn.org/stable/modules/linear_model.html#logistic-regression\n",
      "  n_iter_i = _check_optimize_result(\n",
      "2it [18:32, 556.23s/it]\n"
     ]
    },
    {
     "name": "stdout",
     "output_type": "stream",
     "text": [
      "Classification Report, test set:\n",
      "              precision    recall  f1-score   support\n",
      "\n",
      "           0       0.50      0.49      0.49      1000\n",
      "           1       0.50      0.51      0.50      1000\n",
      "\n",
      "    accuracy                           0.50      2000\n",
      "   macro avg       0.50      0.50      0.50      2000\n",
      "weighted avg       0.50      0.50      0.50      2000\n",
      "\n"
     ]
    }
   ],
   "source": [
    "models = [LogisticRegression(C=100)]*10\n",
    "test = HackingModel(RandomForestClassifier(n_estimators=1000),models, X_shadow, y_shadow,\n",
    "                  list(set(y_shadow)),list(set(y_train)) )\n",
    "test.print_score_hacking(X_train,y_train, X_test,y_test, logistic_clf)"
   ]
  },
  {
   "cell_type": "code",
   "execution_count": null,
   "id": "465cb37a",
   "metadata": {
    "colab": {
     "base_uri": "https://localhost:8080/",
     "height": 75
    },
    "executionInfo": {
     "elapsed": 2511,
     "status": "ok",
     "timestamp": 1704303552031,
     "user": {
      "displayName": "Augustin Poissonnier",
      "userId": "03822151421310669634"
     },
     "user_tz": -60
    },
    "id": "Xk6YicSgZLR9",
    "outputId": "c93c4876-c58d-4022-e04a-8d9f03999ed3"
   },
   "outputs": [],
   "source": [
    "#Target model\n",
    "X_train, X_test, y_train, y_test = train_test_split(X_processed, y_processed, test_size=1000, train_size=1000,stratify = y_processed)\n",
    "MLPC_clf = MLPClassifier(random_state=1, max_iter=300)\n",
    "MLPC_clf.fit(X_train, y_train)"
   ]
  },
  {
   "cell_type": "code",
   "execution_count": null,
   "id": "73020fcb",
   "metadata": {
    "colab": {
     "base_uri": "https://localhost:8080/"
    },
    "executionInfo": {
     "elapsed": 421119,
     "status": "ok",
     "timestamp": 1704304082946,
     "user": {
      "displayName": "Augustin Poissonnier",
      "userId": "03822151421310669634"
     },
     "user_tz": -60
    },
    "id": "Vgf8jk7taJWP",
    "outputId": "fe71ac5a-18f0-4c79-9a4f-c8045dc0cbf5"
   },
   "outputs": [
    {
     "name": "stderr",
     "output_type": "stream",
     "text": [
      "C:\\Users\\guspo\\anaconda3\\lib\\site-packages\\sklearn\\neural_network\\_multilayer_perceptron.py:691: ConvergenceWarning: Stochastic Optimizer: Maximum iterations (300) reached and the optimization hasn't converged yet.\n",
      "  warnings.warn(\n",
      "C:\\Users\\guspo\\anaconda3\\lib\\site-packages\\sklearn\\neural_network\\_multilayer_perceptron.py:691: ConvergenceWarning: Stochastic Optimizer: Maximum iterations (300) reached and the optimization hasn't converged yet.\n",
      "  warnings.warn(\n",
      "C:\\Users\\guspo\\anaconda3\\lib\\site-packages\\sklearn\\neural_network\\_multilayer_perceptron.py:691: ConvergenceWarning: Stochastic Optimizer: Maximum iterations (300) reached and the optimization hasn't converged yet.\n",
      "  warnings.warn(\n",
      "C:\\Users\\guspo\\anaconda3\\lib\\site-packages\\sklearn\\neural_network\\_multilayer_perceptron.py:691: ConvergenceWarning: Stochastic Optimizer: Maximum iterations (300) reached and the optimization hasn't converged yet.\n",
      "  warnings.warn(\n",
      "C:\\Users\\guspo\\anaconda3\\lib\\site-packages\\sklearn\\neural_network\\_multilayer_perceptron.py:691: ConvergenceWarning: Stochastic Optimizer: Maximum iterations (300) reached and the optimization hasn't converged yet.\n",
      "  warnings.warn(\n",
      "C:\\Users\\guspo\\anaconda3\\lib\\site-packages\\sklearn\\neural_network\\_multilayer_perceptron.py:691: ConvergenceWarning: Stochastic Optimizer: Maximum iterations (300) reached and the optimization hasn't converged yet.\n",
      "  warnings.warn(\n",
      "C:\\Users\\guspo\\anaconda3\\lib\\site-packages\\sklearn\\neural_network\\_multilayer_perceptron.py:691: ConvergenceWarning: Stochastic Optimizer: Maximum iterations (300) reached and the optimization hasn't converged yet.\n",
      "  warnings.warn(\n",
      "C:\\Users\\guspo\\anaconda3\\lib\\site-packages\\sklearn\\neural_network\\_multilayer_perceptron.py:691: ConvergenceWarning: Stochastic Optimizer: Maximum iterations (300) reached and the optimization hasn't converged yet.\n",
      "  warnings.warn(\n",
      "C:\\Users\\guspo\\anaconda3\\lib\\site-packages\\sklearn\\neural_network\\_multilayer_perceptron.py:691: ConvergenceWarning: Stochastic Optimizer: Maximum iterations (300) reached and the optimization hasn't converged yet.\n",
      "  warnings.warn(\n",
      "C:\\Users\\guspo\\anaconda3\\lib\\site-packages\\sklearn\\neural_network\\_multilayer_perceptron.py:691: ConvergenceWarning: Stochastic Optimizer: Maximum iterations (300) reached and the optimization hasn't converged yet.\n",
      "  warnings.warn(\n",
      "0it [00:00, ?it/s]"
     ]
    }
   ],
   "source": [
    "models = [MLPClassifier(random_state=1, max_iter=300) for i in range(10)]\n",
    "test = HackingModel(RandomForestClassifier(n_estimators=1000),models, X_shadow, y_shadow,\n",
    "                  list(set(y_shadow)),list(set(y_train)) )\n",
    "test.print_score_hacking(X_train,y_train, X_test,y_test, logistic_clf)"
   ]
  },
  {
   "cell_type": "markdown",
   "id": "2db92be7",
   "metadata": {
    "id": "ef578980-f919-4f0c-a047-31fca2d122c6"
   },
   "source": [
    "# Tests des modèles sur les données - a supprimer ?"
   ]
  },
  {
   "cell_type": "code",
   "execution_count": null,
   "id": "df0e9669",
   "metadata": {
    "id": "029d9c8c-76bd-4a53-8c59-a028016258c5"
   },
   "outputs": [],
   "source": [
    "#permet de calculer l'accuracy d'un modèle sur le set d'entrainement et sur un set de test\n",
    "def print_score(clf, X_train, y_train, X_test, y_test, train=True):\n",
    "    if train:\n",
    "        pred = clf.predict(X_train)\n",
    "        clf_report = pd.DataFrame(classification_report(y_train, pred, output_dict=True))\n",
    "        print(f\"Train Result ; Accuracy Score: {accuracy_score(y_train, pred) * 100:.2f}%\")\n",
    "\n",
    "\n",
    "    elif train==False:\n",
    "        pred = clf.predict(X_test)\n",
    "        clf_report = pd.DataFrame(classification_report(y_test, pred, output_dict=True))\n",
    "        print(f\"Test Result ; Accuracy Score: {accuracy_score(y_test, pred) * 100:.2f}%\")"
   ]
  },
  {
   "cell_type": "code",
   "execution_count": null,
   "id": "0126c351",
   "metadata": {
    "colab": {
     "base_uri": "https://localhost:8080/"
    },
    "executionInfo": {
     "elapsed": 254,
     "status": "ok",
     "timestamp": 1703672006999,
     "user": {
      "displayName": "Max Kramkimel",
      "userId": "08772700917866145302"
     },
     "user_tz": -60
    },
    "id": "1491d834-d49e-441d-a1f5-b89206b8b1a9",
    "outputId": "2bf03a26-c7ec-4022-81a1-d32aa7054cc9"
   },
   "outputs": [
    {
     "name": "stdout",
     "output_type": "stream",
     "text": [
      "              precision    recall  f1-score   support\n",
      "\n",
      "           0       1.00      1.00      1.00        19\n",
      "           1       1.00      0.64      0.78        36\n",
      "           2       0.70      1.00      0.82        14\n",
      "           3       0.90      0.75      0.82        24\n",
      "           4       0.86      0.82      0.84        22\n",
      "           5       0.53      0.90      0.67        10\n",
      "           6       0.85      0.94      0.89        18\n",
      "           7       0.82      0.72      0.77        25\n",
      "           8       0.67      1.00      0.80        12\n",
      "           9       0.75      0.75      0.75        20\n",
      "\n",
      "    accuracy                           0.81       200\n",
      "   macro avg       0.81      0.85      0.81       200\n",
      "weighted avg       0.85      0.81      0.82       200\n",
      "\n",
      "0.8465290297937358\n"
     ]
    }
   ],
   "source": [
    "#modèle de classification avec Knn\n",
    "knn_clf = KNeighborsClassifier()\n",
    "knn_clf.fit(X_train, y_train)\n",
    "\n",
    "#print_score(knn_clf, X_train, y_train, X_test, y_test, train=True)\n",
    "#print_score(knn_clf, X_train, y_train, X_test, y_test, train=False)\n",
    "\n",
    "y_pred = knn_clf.predict(X_test)\n",
    "b = classification_report(y_pred,y_test)\n",
    "\n",
    "a = classification_report(y_pred,y_test,output_dict = True)\n",
    "print(b)\n",
    "print(a['weighted avg']['precision'])"
   ]
  },
  {
   "cell_type": "code",
   "execution_count": null,
   "id": "b8d3167e",
   "metadata": {
    "colab": {
     "base_uri": "https://localhost:8080/"
    },
    "executionInfo": {
     "elapsed": 10,
     "status": "ok",
     "timestamp": 1702990785528,
     "user": {
      "displayName": "Max Kramkimel",
      "userId": "08772700917866145302"
     },
     "user_tz": -60
    },
    "id": "cfb63de5-9280-4cd3-9a44-f763395b49a6",
    "outputId": "61eea024-681a-4b20-9b4e-b8a0e5cf9334"
   },
   "outputs": [
    {
     "name": "stdout",
     "output_type": "stream",
     "text": [
      "Train Result ; Accuracy Score: 90.00%\n",
      "Test Result ; Accuracy Score: 81.00%\n"
     ]
    }
   ],
   "source": [
    "#modèle de classification par régression logistique\n",
    "logistic_clf = LogisticRegression(C=30.0)\n",
    "logistic_clf.fit(X_train, y_train)\n",
    "\n",
    "print_score(logistic_clf, X_train, y_train, X_test, y_test, train=True)\n",
    "print_score(logistic_clf, X_train, y_train, X_test, y_test, train=False)"
   ]
  },
  {
   "cell_type": "code",
   "execution_count": null,
   "id": "e171889d",
   "metadata": {
    "colab": {
     "base_uri": "https://localhost:8080/"
    },
    "executionInfo": {
     "elapsed": 9,
     "status": "ok",
     "timestamp": 1702990785975,
     "user": {
      "displayName": "Max Kramkimel",
      "userId": "08772700917866145302"
     },
     "user_tz": -60
    },
    "id": "145246b8-a02c-458a-a979-bb95c0a98442",
    "outputId": "dcbae5df-c4f4-4136-b177-9b3271e3d056"
   },
   "outputs": [
    {
     "name": "stdout",
     "output_type": "stream",
     "text": [
      "Train Result ; Accuracy Score: 100.00%\n",
      "Test Result ; Accuracy Score: 72.00%\n"
     ]
    }
   ],
   "source": [
    "#modèles de classification avec un arbre de décision simple\n",
    "tree_clf = DecisionTreeClassifier(random_state=42)\n",
    "tree_clf.fit(X_train, y_train)\n",
    "\n",
    "print_score(tree_clf, X_train, y_train, X_test, y_test, train=True)\n",
    "print_score(tree_clf, X_train, y_train, X_test, y_test, train=False)"
   ]
  },
  {
   "cell_type": "code",
   "execution_count": null,
   "id": "e0c99cb8",
   "metadata": {
    "colab": {
     "base_uri": "https://localhost:8080/"
    },
    "executionInfo": {
     "elapsed": 1642,
     "status": "ok",
     "timestamp": 1702990788083,
     "user": {
      "displayName": "Max Kramkimel",
      "userId": "08772700917866145302"
     },
     "user_tz": -60
    },
    "id": "e377f27c-0c9a-4478-b4bd-cba95419a46d",
    "outputId": "d9f1cbb3-ce94-4e23-cf06-76b4c2847d0a"
   },
   "outputs": [
    {
     "name": "stdout",
     "output_type": "stream",
     "text": [
      "Train Result ; Accuracy Score: 100.00%\n",
      "Test Result ; Accuracy Score: 83.00%\n"
     ]
    }
   ],
   "source": [
    "#modèles de classification avec la méthode random forest\n",
    "rf_clf = RandomForestClassifier(n_estimators=1000, random_state=42)\n",
    "rf_clf.fit(X_train, y_train)\n",
    "\n",
    "print_score(rf_clf, X_train, y_train, X_test, y_test, train=True)\n",
    "print_score(rf_clf, X_train, y_train, X_test, y_test, train=False)"
   ]
  },
  {
   "cell_type": "markdown",
   "id": "2fc2ed03",
   "metadata": {
    "id": "ecfe4a3f-12fd-4dd1-b4f4-ad68515ee9bd"
   },
   "source": [
    "## Shadow Model"
   ]
  },
  {
   "cell_type": "markdown",
   "id": "604a2c43",
   "metadata": {
    "id": "5bb20c9b-1fec-4387-847b-80ee3fc4b381"
   },
   "source": [
    "## Model de Hack"
   ]
  },
  {
   "cell_type": "markdown",
   "id": "22dcc94a",
   "metadata": {
    "id": "FOKm22FFkJXe"
   },
   "source": [
    "# MNIST"
   ]
  },
  {
   "cell_type": "code",
   "execution_count": null,
   "id": "72f2af79",
   "metadata": {
    "id": "X4XPvbWxkL7B"
   },
   "outputs": [],
   "source": [
    "X, y = fetch_openml('mnist_784', version=1, return_X_y=True, parser='auto')\n",
    "X = X.values\n",
    "y = y.astype(int).values\n",
    "X = (X/255. - .5)*2"
   ]
  },
  {
   "cell_type": "code",
   "execution_count": null,
   "id": "d1fd1b53",
   "metadata": {
    "colab": {
     "base_uri": "https://localhost:8080/"
    },
    "executionInfo": {
     "elapsed": 12,
     "status": "ok",
     "timestamp": 1703669674864,
     "user": {
      "displayName": "Max Kramkimel",
      "userId": "08772700917866145302"
     },
     "user_tz": -60
    },
    "id": "IfXB5w-5ksWV",
    "outputId": "cda9d4ba-d0ec-4723-844a-865aa916dde9"
   },
   "outputs": [
    {
     "name": "stdout",
     "output_type": "stream",
     "text": [
      "(70000, 784)\n"
     ]
    }
   ],
   "source": [
    "print(X.shape)"
   ]
  },
  {
   "cell_type": "code",
   "execution_count": null,
   "id": "982f4a02",
   "metadata": {
    "id": "Y6eY0cj9l4aP"
   },
   "outputs": [],
   "source": [
    "mnist = fetch_openml(name='mnist_784', version=1)\n",
    "mnist_df = pd.DataFrame(data=mnist.data, columns=mnist.feature_names)\n",
    "mnist_df['target'] = mnist.target.astype(int)"
   ]
  },
  {
   "cell_type": "code",
   "execution_count": null,
   "id": "de475d3a",
   "metadata": {
    "id": "5_Xqb4APmswB"
   },
   "outputs": [],
   "source": [
    "X_processed = mnist_df.drop(columns=['target']).head(5000)\n",
    "y_processed = mnist_df['target'].head(5000)"
   ]
  },
  {
   "cell_type": "code",
   "execution_count": null,
   "id": "6d7c0861",
   "metadata": {
    "colab": {
     "base_uri": "https://localhost:8080/",
     "height": 75
    },
    "executionInfo": {
     "elapsed": 375,
     "status": "ok",
     "timestamp": 1703670916600,
     "user": {
      "displayName": "Max Kramkimel",
      "userId": "08772700917866145302"
     },
     "user_tz": -60
    },
    "id": "nPWQ9--Bk3Hb",
    "outputId": "2b76e544-3902-437f-9818-855e1ae35031"
   },
   "outputs": [
    {
     "data": {
      "text/html": [
       "<style>#sk-container-id-6 {color: black;background-color: white;}#sk-container-id-6 pre{padding: 0;}#sk-container-id-6 div.sk-toggleable {background-color: white;}#sk-container-id-6 label.sk-toggleable__label {cursor: pointer;display: block;width: 100%;margin-bottom: 0;padding: 0.3em;box-sizing: border-box;text-align: center;}#sk-container-id-6 label.sk-toggleable__label-arrow:before {content: \"▸\";float: left;margin-right: 0.25em;color: #696969;}#sk-container-id-6 label.sk-toggleable__label-arrow:hover:before {color: black;}#sk-container-id-6 div.sk-estimator:hover label.sk-toggleable__label-arrow:before {color: black;}#sk-container-id-6 div.sk-toggleable__content {max-height: 0;max-width: 0;overflow: hidden;text-align: left;background-color: #f0f8ff;}#sk-container-id-6 div.sk-toggleable__content pre {margin: 0.2em;color: black;border-radius: 0.25em;background-color: #f0f8ff;}#sk-container-id-6 input.sk-toggleable__control:checked~div.sk-toggleable__content {max-height: 200px;max-width: 100%;overflow: auto;}#sk-container-id-6 input.sk-toggleable__control:checked~label.sk-toggleable__label-arrow:before {content: \"▾\";}#sk-container-id-6 div.sk-estimator input.sk-toggleable__control:checked~label.sk-toggleable__label {background-color: #d4ebff;}#sk-container-id-6 div.sk-label input.sk-toggleable__control:checked~label.sk-toggleable__label {background-color: #d4ebff;}#sk-container-id-6 input.sk-hidden--visually {border: 0;clip: rect(1px 1px 1px 1px);clip: rect(1px, 1px, 1px, 1px);height: 1px;margin: -1px;overflow: hidden;padding: 0;position: absolute;width: 1px;}#sk-container-id-6 div.sk-estimator {font-family: monospace;background-color: #f0f8ff;border: 1px dotted black;border-radius: 0.25em;box-sizing: border-box;margin-bottom: 0.5em;}#sk-container-id-6 div.sk-estimator:hover {background-color: #d4ebff;}#sk-container-id-6 div.sk-parallel-item::after {content: \"\";width: 100%;border-bottom: 1px solid gray;flex-grow: 1;}#sk-container-id-6 div.sk-label:hover label.sk-toggleable__label {background-color: #d4ebff;}#sk-container-id-6 div.sk-serial::before {content: \"\";position: absolute;border-left: 1px solid gray;box-sizing: border-box;top: 0;bottom: 0;left: 50%;z-index: 0;}#sk-container-id-6 div.sk-serial {display: flex;flex-direction: column;align-items: center;background-color: white;padding-right: 0.2em;padding-left: 0.2em;position: relative;}#sk-container-id-6 div.sk-item {position: relative;z-index: 1;}#sk-container-id-6 div.sk-parallel {display: flex;align-items: stretch;justify-content: center;background-color: white;position: relative;}#sk-container-id-6 div.sk-item::before, #sk-container-id-6 div.sk-parallel-item::before {content: \"\";position: absolute;border-left: 1px solid gray;box-sizing: border-box;top: 0;bottom: 0;left: 50%;z-index: -1;}#sk-container-id-6 div.sk-parallel-item {display: flex;flex-direction: column;z-index: 1;position: relative;background-color: white;}#sk-container-id-6 div.sk-parallel-item:first-child::after {align-self: flex-end;width: 50%;}#sk-container-id-6 div.sk-parallel-item:last-child::after {align-self: flex-start;width: 50%;}#sk-container-id-6 div.sk-parallel-item:only-child::after {width: 0;}#sk-container-id-6 div.sk-dashed-wrapped {border: 1px dashed gray;margin: 0 0.4em 0.5em 0.4em;box-sizing: border-box;padding-bottom: 0.4em;background-color: white;}#sk-container-id-6 div.sk-label label {font-family: monospace;font-weight: bold;display: inline-block;line-height: 1.2em;}#sk-container-id-6 div.sk-label-container {text-align: center;}#sk-container-id-6 div.sk-container {/* jupyter's `normalize.less` sets `[hidden] { display: none; }` but bootstrap.min.css set `[hidden] { display: none !important; }` so we also need the `!important` here to be able to override the default hidden behavior on the sphinx rendered scikit-learn.org. See: https://github.com/scikit-learn/scikit-learn/issues/21755 */display: inline-block !important;position: relative;}#sk-container-id-6 div.sk-text-repr-fallback {display: none;}</style><div id=\"sk-container-id-6\" class=\"sk-top-container\"><div class=\"sk-text-repr-fallback\"><pre>RandomForestClassifier()</pre><b>In a Jupyter environment, please rerun this cell to show the HTML representation or trust the notebook. <br />On GitHub, the HTML representation is unable to render, please try loading this page with nbviewer.org.</b></div><div class=\"sk-container\" hidden><div class=\"sk-item\"><div class=\"sk-estimator sk-toggleable\"><input class=\"sk-toggleable__control sk-hidden--visually\" id=\"sk-estimator-id-6\" type=\"checkbox\" checked><label for=\"sk-estimator-id-6\" class=\"sk-toggleable__label sk-toggleable__label-arrow\">RandomForestClassifier</label><div class=\"sk-toggleable__content\"><pre>RandomForestClassifier()</pre></div></div></div></div></div>"
      ],
      "text/plain": [
       "RandomForestClassifier()"
      ]
     },
     "execution_count": 32,
     "metadata": {},
     "output_type": "execute_result"
    }
   ],
   "source": [
    "#Target model\n",
    "X_train, X_test, y_train, y_test = train_test_split(X_processed, y_processed, test_size=200, train_size=200,stratify = y_processed)\n",
    "logistic_clf = RandomForestClassifier()\n",
    "logistic_clf.fit(X_train, y_train)"
   ]
  },
  {
   "cell_type": "code",
   "execution_count": null,
   "id": "7ec81490",
   "metadata": {
    "id": "ZRgSIWp8k9dC"
   },
   "outputs": [],
   "source": [
    "#on split les données en deux, on garde le set shadow qui va servir à entrainer les shadow models\n",
    "X_shadow, temp, y_shadow, temp2 = train_test_split(X_processed, y_processed, test_size=2500, train_size=2500,stratify = y_processed)"
   ]
  },
  {
   "cell_type": "code",
   "execution_count": null,
   "id": "da20ed25",
   "metadata": {
    "colab": {
     "base_uri": "https://localhost:8080/"
    },
    "executionInfo": {
     "elapsed": 108396,
     "status": "ok",
     "timestamp": 1703670915421,
     "user": {
      "displayName": "Max Kramkimel",
      "userId": "08772700917866145302"
     },
     "user_tz": -60
    },
    "id": "wm2VT2rMlO8m",
    "outputId": "be9f5475-3df3-493f-af65-4c806f4e9788"
   },
   "outputs": [
    {
     "name": "stderr",
     "output_type": "stream",
     "text": [
      "10it [01:20,  8.00s/it]\n"
     ]
    },
    {
     "name": "stdout",
     "output_type": "stream",
     "text": [
      "Classification Report, test set:\n",
      "              precision    recall  f1-score   support\n",
      "\n",
      "           0       0.71      1.00      0.83       200\n",
      "           1       1.00      0.59      0.75       200\n",
      "\n",
      "    accuracy                           0.80       400\n",
      "   macro avg       0.86      0.80      0.79       400\n",
      "weighted avg       0.86      0.80      0.79       400\n",
      "\n"
     ]
    }
   ],
   "source": [
    "models = [RandomForestClassifier()]*20\n",
    "test = HackingModel(RandomForestClassifier(n_estimators=200),models, X_shadow, y_shadow,\n",
    "                  list(set(y_shadow)),list(set(y_train)) )\n",
    "test.print_score_hacking(X_train,y_train, X_test,y_test, logistic_clf)"
   ]
  },
  {
   "cell_type": "code",
   "execution_count": null,
   "id": "950fea10",
   "metadata": {
    "colab": {
     "base_uri": "https://localhost:8080/"
    },
    "executionInfo": {
     "elapsed": 205125,
     "status": "ok",
     "timestamp": 1703673589358,
     "user": {
      "displayName": "Max Kramkimel",
      "userId": "08772700917866145302"
     },
     "user_tz": -60
    },
    "id": "5P4KIFinsc1D",
    "outputId": "74798e06-970a-4d4d-cfb3-323e4158697a"
   },
   "outputs": [
    {
     "name": "stderr",
     "output_type": "stream",
     "text": [
      "10it [00:17,  1.73s/it]\n",
      "10it [00:30,  3.09s/it]\n",
      "10it [00:41,  4.18s/it]\n",
      "10it [00:54,  5.49s/it]\n"
     ]
    }
   ],
   "source": [
    "n_shadow_models = [5,10,15,20]\n",
    "\n",
    "list_accuracy = []\n",
    "list_f1score = []\n",
    "\n",
    "for i in range(len(n_shadow_models)):\n",
    "  #target model\n",
    "  X_train, X_test, y_train, y_test = train_test_split(X_processed, y_processed, test_size=200, train_size=200,stratify = y_processed)\n",
    "  target_model = RandomForestClassifier()\n",
    "  target_model.fit(X_train, y_train)\n",
    "\n",
    "  #shadow model and hacking model\n",
    "  X_shadow, temp, y_shadow, temp2 = train_test_split(X_processed, y_processed, test_size=2500, train_size=2500,stratify = y_processed)\n",
    "  models = [RandomForestClassifier()]*n_shadow_models[i]\n",
    "  hack = HackingModel(RandomForestClassifier(n_estimators=200),models, X_shadow, y_shadow,\n",
    "                    list(set(y_shadow)),list(set(y_train)) )\n",
    "  a,b = hack.give_constants(X_train,y_train, X_test,y_test, target_model)\n",
    "\n",
    "  list_accuracy.append(a)\n",
    "  list_f1score.append(b)\n"
   ]
  },
  {
   "cell_type": "code",
   "execution_count": null,
   "id": "3014b2b7",
   "metadata": {
    "colab": {
     "base_uri": "https://localhost:8080/",
     "height": 407
    },
    "executionInfo": {
     "elapsed": 827,
     "status": "ok",
     "timestamp": 1703673923162,
     "user": {
      "displayName": "Max Kramkimel",
      "userId": "08772700917866145302"
     },
     "user_tz": -60
    },
    "id": "P249RQuWusej",
    "outputId": "d836b9e5-9bd5-4f37-b06c-61dfe7d904ad"
   },
   "outputs": [
    {
     "data": {
      "image/png": "[encoded data removed]",
      "text/plain": [
       "<Figure size 1000x400 with 2 Axes>"
      ]
     },
     "metadata": {},
     "output_type": "display_data"
    }
   ],
   "source": [
    "fig, axs = plt.subplots(1, 2, figsize=(10, 4))\n",
    "\n",
    "axs[0].plot(n_shadow_models, list_accuracy)\n",
    "axs[0].set_xlabel('Number of shadow models')\n",
    "axs[0].set_title(\"Accuracy with respect to the number of shadow models\")\n",
    "axs[0].set_ylabel(\"Accuracy\")\n",
    "\n",
    "axs[1].plot(n_shadow_models, list_f1score)\n",
    "axs[1].set_xlabel('Number of shadow models')\n",
    "axs[1].set_title(\"f1 score models with respect to the number of shadow models\")\n",
    "axs[1].set_ylabel(\"f1 score\")\n",
    "\n",
    "plt.tight_layout()\n",
    "plt.show()\n"
   ]
  },
  {
   "cell_type": "code",
   "execution_count": null,
   "id": "a5e92416",
   "metadata": {
    "colab": {
     "base_uri": "https://localhost:8080/"
    },
    "executionInfo": {
     "elapsed": 348121,
     "status": "ok",
     "timestamp": 1703673201972,
     "user": {
      "displayName": "Max Kramkimel",
      "userId": "08772700917866145302"
     },
     "user_tz": -60
    },
    "id": "l5inCL5xwCKh",
    "outputId": "8603f2bd-a36f-45a3-f054-c8575740b311"
   },
   "outputs": [
    {
     "name": "stderr",
     "output_type": "stream",
     "text": [
      "/usr/local/lib/python3.10/dist-packages/sklearn/linear_model/_logistic.py:458: ConvergenceWarning: lbfgs failed to converge (status=1):\n",
      "STOP: TOTAL NO. of ITERATIONS REACHED LIMIT.\n",
      "\n",
      "Increase the number of iterations (max_iter) or scale the data as shown in:\n",
      "    https://scikit-learn.org/stable/modules/preprocessing.html\n",
      "Please also refer to the documentation for alternative solver options:\n",
      "    https://scikit-learn.org/stable/modules/linear_model.html#logistic-regression\n",
      "  n_iter_i = _check_optimize_result(\n",
      "/usr/local/lib/python3.10/dist-packages/sklearn/linear_model/_logistic.py:458: ConvergenceWarning: lbfgs failed to converge (status=1):\n",
      "STOP: TOTAL NO. of ITERATIONS REACHED LIMIT.\n",
      "\n",
      "Increase the number of iterations (max_iter) or scale the data as shown in:\n",
      "    https://scikit-learn.org/stable/modules/preprocessing.html\n",
      "Please also refer to the documentation for alternative solver options:\n",
      "    https://scikit-learn.org/stable/modules/linear_model.html#logistic-regression\n",
      "  n_iter_i = _check_optimize_result(\n",
      "/usr/local/lib/python3.10/dist-packages/sklearn/linear_model/_logistic.py:458: ConvergenceWarning: lbfgs failed to converge (status=1):\n",
      "STOP: TOTAL NO. of ITERATIONS REACHED LIMIT.\n",
      "\n",
      "Increase the number of iterations (max_iter) or scale the data as shown in:\n",
      "    https://scikit-learn.org/stable/modules/preprocessing.html\n",
      "Please also refer to the documentation for alternative solver options:\n",
      "    https://scikit-learn.org/stable/modules/linear_model.html#logistic-regression\n",
      "  n_iter_i = _check_optimize_result(\n",
      "/usr/local/lib/python3.10/dist-packages/sklearn/linear_model/_logistic.py:458: ConvergenceWarning: lbfgs failed to converge (status=1):\n",
      "STOP: TOTAL NO. of ITERATIONS REACHED LIMIT.\n",
      "\n",
      "Increase the number of iterations (max_iter) or scale the data as shown in:\n",
      "    https://scikit-learn.org/stable/modules/preprocessing.html\n",
      "Please also refer to the documentation for alternative solver options:\n",
      "    https://scikit-learn.org/stable/modules/linear_model.html#logistic-regression\n",
      "  n_iter_i = _check_optimize_result(\n",
      "/usr/local/lib/python3.10/dist-packages/sklearn/linear_model/_logistic.py:458: ConvergenceWarning: lbfgs failed to converge (status=1):\n",
      "STOP: TOTAL NO. of ITERATIONS REACHED LIMIT.\n",
      "\n",
      "Increase the number of iterations (max_iter) or scale the data as shown in:\n",
      "    https://scikit-learn.org/stable/modules/preprocessing.html\n",
      "Please also refer to the documentation for alternative solver options:\n",
      "    https://scikit-learn.org/stable/modules/linear_model.html#logistic-regression\n",
      "  n_iter_i = _check_optimize_result(\n",
      "/usr/local/lib/python3.10/dist-packages/sklearn/linear_model/_logistic.py:458: ConvergenceWarning: lbfgs failed to converge (status=1):\n",
      "STOP: TOTAL NO. of ITERATIONS REACHED LIMIT.\n",
      "\n",
      "Increase the number of iterations (max_iter) or scale the data as shown in:\n",
      "    https://scikit-learn.org/stable/modules/preprocessing.html\n",
      "Please also refer to the documentation for alternative solver options:\n",
      "    https://scikit-learn.org/stable/modules/linear_model.html#logistic-regression\n",
      "  n_iter_i = _check_optimize_result(\n",
      "/usr/local/lib/python3.10/dist-packages/sklearn/linear_model/_logistic.py:458: ConvergenceWarning: lbfgs failed to converge (status=1):\n",
      "STOP: TOTAL NO. of ITERATIONS REACHED LIMIT.\n",
      "\n",
      "Increase the number of iterations (max_iter) or scale the data as shown in:\n",
      "    https://scikit-learn.org/stable/modules/preprocessing.html\n",
      "Please also refer to the documentation for alternative solver options:\n",
      "    https://scikit-learn.org/stable/modules/linear_model.html#logistic-regression\n",
      "  n_iter_i = _check_optimize_result(\n",
      "/usr/local/lib/python3.10/dist-packages/sklearn/linear_model/_logistic.py:458: ConvergenceWarning: lbfgs failed to converge (status=1):\n",
      "STOP: TOTAL NO. of ITERATIONS REACHED LIMIT.\n",
      "\n",
      "Increase the number of iterations (max_iter) or scale the data as shown in:\n",
      "    https://scikit-learn.org/stable/modules/preprocessing.html\n",
      "Please also refer to the documentation for alternative solver options:\n",
      "    https://scikit-learn.org/stable/modules/linear_model.html#logistic-regression\n",
      "  n_iter_i = _check_optimize_result(\n",
      "/usr/local/lib/python3.10/dist-packages/sklearn/linear_model/_logistic.py:458: ConvergenceWarning: lbfgs failed to converge (status=1):\n",
      "STOP: TOTAL NO. of ITERATIONS REACHED LIMIT.\n",
      "\n",
      "Increase the number of iterations (max_iter) or scale the data as shown in:\n",
      "    https://scikit-learn.org/stable/modules/preprocessing.html\n",
      "Please also refer to the documentation for alternative solver options:\n",
      "    https://scikit-learn.org/stable/modules/linear_model.html#logistic-regression\n",
      "  n_iter_i = _check_optimize_result(\n",
      "/usr/local/lib/python3.10/dist-packages/sklearn/linear_model/_logistic.py:458: ConvergenceWarning: lbfgs failed to converge (status=1):\n",
      "STOP: TOTAL NO. of ITERATIONS REACHED LIMIT.\n",
      "\n",
      "Increase the number of iterations (max_iter) or scale the data as shown in:\n",
      "    https://scikit-learn.org/stable/modules/preprocessing.html\n",
      "Please also refer to the documentation for alternative solver options:\n",
      "    https://scikit-learn.org/stable/modules/linear_model.html#logistic-regression\n",
      "  n_iter_i = _check_optimize_result(\n",
      "10it [01:01,  6.19s/it]\n",
      "/usr/local/lib/python3.10/dist-packages/sklearn/linear_model/_logistic.py:458: ConvergenceWarning: lbfgs failed to converge (status=1):\n",
      "STOP: TOTAL NO. of ITERATIONS REACHED LIMIT.\n",
      "\n",
      "Increase the number of iterations (max_iter) or scale the data as shown in:\n",
      "    https://scikit-learn.org/stable/modules/preprocessing.html\n",
      "Please also refer to the documentation for alternative solver options:\n",
      "    https://scikit-learn.org/stable/modules/linear_model.html#logistic-regression\n",
      "  n_iter_i = _check_optimize_result(\n",
      "/usr/local/lib/python3.10/dist-packages/sklearn/linear_model/_logistic.py:458: ConvergenceWarning: lbfgs failed to converge (status=1):\n",
      "STOP: TOTAL NO. of ITERATIONS REACHED LIMIT.\n",
      "\n",
      "Increase the number of iterations (max_iter) or scale the data as shown in:\n",
      "    https://scikit-learn.org/stable/modules/preprocessing.html\n",
      "Please also refer to the documentation for alternative solver options:\n",
      "    https://scikit-learn.org/stable/modules/linear_model.html#logistic-regression\n",
      "  n_iter_i = _check_optimize_result(\n",
      "/usr/local/lib/python3.10/dist-packages/sklearn/linear_model/_logistic.py:458: ConvergenceWarning: lbfgs failed to converge (status=1):\n",
      "STOP: TOTAL NO. of ITERATIONS REACHED LIMIT.\n",
      "\n",
      "Increase the number of iterations (max_iter) or scale the data as shown in:\n",
      "    https://scikit-learn.org/stable/modules/preprocessing.html\n",
      "Please also refer to the documentation for alternative solver options:\n",
      "    https://scikit-learn.org/stable/modules/linear_model.html#logistic-regression\n",
      "  n_iter_i = _check_optimize_result(\n",
      "/usr/local/lib/python3.10/dist-packages/sklearn/linear_model/_logistic.py:458: ConvergenceWarning: lbfgs failed to converge (status=1):\n",
      "STOP: TOTAL NO. of ITERATIONS REACHED LIMIT.\n",
      "\n",
      "Increase the number of iterations (max_iter) or scale the data as shown in:\n",
      "    https://scikit-learn.org/stable/modules/preprocessing.html\n",
      "Please also refer to the documentation for alternative solver options:\n",
      "    https://scikit-learn.org/stable/modules/linear_model.html#logistic-regression\n",
      "  n_iter_i = _check_optimize_result(\n",
      "/usr/local/lib/python3.10/dist-packages/sklearn/linear_model/_logistic.py:458: ConvergenceWarning: lbfgs failed to converge (status=1):\n",
      "STOP: TOTAL NO. of ITERATIONS REACHED LIMIT.\n",
      "\n",
      "Increase the number of iterations (max_iter) or scale the data as shown in:\n",
      "    https://scikit-learn.org/stable/modules/preprocessing.html\n",
      "Please also refer to the documentation for alternative solver options:\n",
      "    https://scikit-learn.org/stable/modules/linear_model.html#logistic-regression\n",
      "  n_iter_i = _check_optimize_result(\n",
      "/usr/local/lib/python3.10/dist-packages/sklearn/linear_model/_logistic.py:458: ConvergenceWarning: lbfgs failed to converge (status=1):\n",
      "STOP: TOTAL NO. of ITERATIONS REACHED LIMIT.\n",
      "\n",
      "Increase the number of iterations (max_iter) or scale the data as shown in:\n",
      "    https://scikit-learn.org/stable/modules/preprocessing.html\n",
      "Please also refer to the documentation for alternative solver options:\n",
      "    https://scikit-learn.org/stable/modules/linear_model.html#logistic-regression\n",
      "  n_iter_i = _check_optimize_result(\n",
      "/usr/local/lib/python3.10/dist-packages/sklearn/linear_model/_logistic.py:458: ConvergenceWarning: lbfgs failed to converge (status=1):\n",
      "STOP: TOTAL NO. of ITERATIONS REACHED LIMIT.\n",
      "\n",
      "Increase the number of iterations (max_iter) or scale the data as shown in:\n",
      "    https://scikit-learn.org/stable/modules/preprocessing.html\n",
      "Please also refer to the documentation for alternative solver options:\n",
      "    https://scikit-learn.org/stable/modules/linear_model.html#logistic-regression\n",
      "  n_iter_i = _check_optimize_result(\n",
      "/usr/local/lib/python3.10/dist-packages/sklearn/linear_model/_logistic.py:458: ConvergenceWarning: lbfgs failed to converge (status=1):\n",
      "STOP: TOTAL NO. of ITERATIONS REACHED LIMIT.\n",
      "\n",
      "Increase the number of iterations (max_iter) or scale the data as shown in:\n",
      "    https://scikit-learn.org/stable/modules/preprocessing.html\n",
      "Please also refer to the documentation for alternative solver options:\n",
      "    https://scikit-learn.org/stable/modules/linear_model.html#logistic-regression\n",
      "  n_iter_i = _check_optimize_result(\n",
      "/usr/local/lib/python3.10/dist-packages/sklearn/linear_model/_logistic.py:458: ConvergenceWarning: lbfgs failed to converge (status=1):\n",
      "STOP: TOTAL NO. of ITERATIONS REACHED LIMIT.\n",
      "\n",
      "Increase the number of iterations (max_iter) or scale the data as shown in:\n",
      "    https://scikit-learn.org/stable/modules/preprocessing.html\n",
      "Please also refer to the documentation for alternative solver options:\n",
      "    https://scikit-learn.org/stable/modules/linear_model.html#logistic-regression\n",
      "  n_iter_i = _check_optimize_result(\n",
      "/usr/local/lib/python3.10/dist-packages/sklearn/linear_model/_logistic.py:458: ConvergenceWarning: lbfgs failed to converge (status=1):\n",
      "STOP: TOTAL NO. of ITERATIONS REACHED LIMIT.\n",
      "\n",
      "Increase the number of iterations (max_iter) or scale the data as shown in:\n",
      "    https://scikit-learn.org/stable/modules/preprocessing.html\n",
      "Please also refer to the documentation for alternative solver options:\n",
      "    https://scikit-learn.org/stable/modules/linear_model.html#logistic-regression\n",
      "  n_iter_i = _check_optimize_result(\n",
      "10it [01:08,  6.87s/it]\n",
      "/usr/local/lib/python3.10/dist-packages/sklearn/linear_model/_logistic.py:458: ConvergenceWarning: lbfgs failed to converge (status=1):\n",
      "STOP: TOTAL NO. of ITERATIONS REACHED LIMIT.\n",
      "\n",
      "Increase the number of iterations (max_iter) or scale the data as shown in:\n",
      "    https://scikit-learn.org/stable/modules/preprocessing.html\n",
      "Please also refer to the documentation for alternative solver options:\n",
      "    https://scikit-learn.org/stable/modules/linear_model.html#logistic-regression\n",
      "  n_iter_i = _check_optimize_result(\n",
      "/usr/local/lib/python3.10/dist-packages/sklearn/linear_model/_logistic.py:458: ConvergenceWarning: lbfgs failed to converge (status=1):\n",
      "STOP: TOTAL NO. of ITERATIONS REACHED LIMIT.\n",
      "\n",
      "Increase the number of iterations (max_iter) or scale the data as shown in:\n",
      "    https://scikit-learn.org/stable/modules/preprocessing.html\n",
      "Please also refer to the documentation for alternative solver options:\n",
      "    https://scikit-learn.org/stable/modules/linear_model.html#logistic-regression\n",
      "  n_iter_i = _check_optimize_result(\n",
      "/usr/local/lib/python3.10/dist-packages/sklearn/linear_model/_logistic.py:458: ConvergenceWarning: lbfgs failed to converge (status=1):\n",
      "STOP: TOTAL NO. of ITERATIONS REACHED LIMIT.\n",
      "\n",
      "Increase the number of iterations (max_iter) or scale the data as shown in:\n",
      "    https://scikit-learn.org/stable/modules/preprocessing.html\n",
      "Please also refer to the documentation for alternative solver options:\n",
      "    https://scikit-learn.org/stable/modules/linear_model.html#logistic-regression\n",
      "  n_iter_i = _check_optimize_result(\n",
      "/usr/local/lib/python3.10/dist-packages/sklearn/linear_model/_logistic.py:458: ConvergenceWarning: lbfgs failed to converge (status=1):\n",
      "STOP: TOTAL NO. of ITERATIONS REACHED LIMIT.\n",
      "\n",
      "Increase the number of iterations (max_iter) or scale the data as shown in:\n",
      "    https://scikit-learn.org/stable/modules/preprocessing.html\n",
      "Please also refer to the documentation for alternative solver options:\n",
      "    https://scikit-learn.org/stable/modules/linear_model.html#logistic-regression\n",
      "  n_iter_i = _check_optimize_result(\n",
      "/usr/local/lib/python3.10/dist-packages/sklearn/linear_model/_logistic.py:458: ConvergenceWarning: lbfgs failed to converge (status=1):\n",
      "STOP: TOTAL NO. of ITERATIONS REACHED LIMIT.\n",
      "\n",
      "Increase the number of iterations (max_iter) or scale the data as shown in:\n",
      "    https://scikit-learn.org/stable/modules/preprocessing.html\n",
      "Please also refer to the documentation for alternative solver options:\n",
      "    https://scikit-learn.org/stable/modules/linear_model.html#logistic-regression\n",
      "  n_iter_i = _check_optimize_result(\n",
      "/usr/local/lib/python3.10/dist-packages/sklearn/linear_model/_logistic.py:458: ConvergenceWarning: lbfgs failed to converge (status=1):\n",
      "STOP: TOTAL NO. of ITERATIONS REACHED LIMIT.\n",
      "\n",
      "Increase the number of iterations (max_iter) or scale the data as shown in:\n",
      "    https://scikit-learn.org/stable/modules/preprocessing.html\n",
      "Please also refer to the documentation for alternative solver options:\n",
      "    https://scikit-learn.org/stable/modules/linear_model.html#logistic-regression\n",
      "  n_iter_i = _check_optimize_result(\n",
      "/usr/local/lib/python3.10/dist-packages/sklearn/linear_model/_logistic.py:458: ConvergenceWarning: lbfgs failed to converge (status=1):\n",
      "STOP: TOTAL NO. of ITERATIONS REACHED LIMIT.\n",
      "\n",
      "Increase the number of iterations (max_iter) or scale the data as shown in:\n",
      "    https://scikit-learn.org/stable/modules/preprocessing.html\n",
      "Please also refer to the documentation for alternative solver options:\n",
      "    https://scikit-learn.org/stable/modules/linear_model.html#logistic-regression\n",
      "  n_iter_i = _check_optimize_result(\n",
      "/usr/local/lib/python3.10/dist-packages/sklearn/linear_model/_logistic.py:458: ConvergenceWarning: lbfgs failed to converge (status=1):\n",
      "STOP: TOTAL NO. of ITERATIONS REACHED LIMIT.\n",
      "\n",
      "Increase the number of iterations (max_iter) or scale the data as shown in:\n",
      "    https://scikit-learn.org/stable/modules/preprocessing.html\n",
      "Please also refer to the documentation for alternative solver options:\n",
      "    https://scikit-learn.org/stable/modules/linear_model.html#logistic-regression\n",
      "  n_iter_i = _check_optimize_result(\n",
      "/usr/local/lib/python3.10/dist-packages/sklearn/linear_model/_logistic.py:458: ConvergenceWarning: lbfgs failed to converge (status=1):\n",
      "STOP: TOTAL NO. of ITERATIONS REACHED LIMIT.\n",
      "\n",
      "Increase the number of iterations (max_iter) or scale the data as shown in:\n",
      "    https://scikit-learn.org/stable/modules/preprocessing.html\n",
      "Please also refer to the documentation for alternative solver options:\n",
      "    https://scikit-learn.org/stable/modules/linear_model.html#logistic-regression\n",
      "  n_iter_i = _check_optimize_result(\n",
      "/usr/local/lib/python3.10/dist-packages/sklearn/linear_model/_logistic.py:458: ConvergenceWarning: lbfgs failed to converge (status=1):\n",
      "STOP: TOTAL NO. of ITERATIONS REACHED LIMIT.\n",
      "\n",
      "Increase the number of iterations (max_iter) or scale the data as shown in:\n",
      "    https://scikit-learn.org/stable/modules/preprocessing.html\n",
      "Please also refer to the documentation for alternative solver options:\n",
      "    https://scikit-learn.org/stable/modules/linear_model.html#logistic-regression\n",
      "  n_iter_i = _check_optimize_result(\n",
      "10it [01:15,  7.58s/it]\n",
      "/usr/local/lib/python3.10/dist-packages/sklearn/linear_model/_logistic.py:458: ConvergenceWarning: lbfgs failed to converge (status=1):\n",
      "STOP: TOTAL NO. of ITERATIONS REACHED LIMIT.\n",
      "\n",
      "Increase the number of iterations (max_iter) or scale the data as shown in:\n",
      "    https://scikit-learn.org/stable/modules/preprocessing.html\n",
      "Please also refer to the documentation for alternative solver options:\n",
      "    https://scikit-learn.org/stable/modules/linear_model.html#logistic-regression\n",
      "  n_iter_i = _check_optimize_result(\n",
      "/usr/local/lib/python3.10/dist-packages/sklearn/linear_model/_logistic.py:458: ConvergenceWarning: lbfgs failed to converge (status=1):\n",
      "STOP: TOTAL NO. of ITERATIONS REACHED LIMIT.\n",
      "\n",
      "Increase the number of iterations (max_iter) or scale the data as shown in:\n",
      "    https://scikit-learn.org/stable/modules/preprocessing.html\n",
      "Please also refer to the documentation for alternative solver options:\n",
      "    https://scikit-learn.org/stable/modules/linear_model.html#logistic-regression\n",
      "  n_iter_i = _check_optimize_result(\n",
      "/usr/local/lib/python3.10/dist-packages/sklearn/linear_model/_logistic.py:458: ConvergenceWarning: lbfgs failed to converge (status=1):\n",
      "STOP: TOTAL NO. of ITERATIONS REACHED LIMIT.\n",
      "\n",
      "Increase the number of iterations (max_iter) or scale the data as shown in:\n",
      "    https://scikit-learn.org/stable/modules/preprocessing.html\n",
      "Please also refer to the documentation for alternative solver options:\n",
      "    https://scikit-learn.org/stable/modules/linear_model.html#logistic-regression\n",
      "  n_iter_i = _check_optimize_result(\n",
      "/usr/local/lib/python3.10/dist-packages/sklearn/linear_model/_logistic.py:458: ConvergenceWarning: lbfgs failed to converge (status=1):\n",
      "STOP: TOTAL NO. of ITERATIONS REACHED LIMIT.\n",
      "\n",
      "Increase the number of iterations (max_iter) or scale the data as shown in:\n",
      "    https://scikit-learn.org/stable/modules/preprocessing.html\n",
      "Please also refer to the documentation for alternative solver options:\n",
      "    https://scikit-learn.org/stable/modules/linear_model.html#logistic-regression\n",
      "  n_iter_i = _check_optimize_result(\n",
      "/usr/local/lib/python3.10/dist-packages/sklearn/linear_model/_logistic.py:458: ConvergenceWarning: lbfgs failed to converge (status=1):\n",
      "STOP: TOTAL NO. of ITERATIONS REACHED LIMIT.\n",
      "\n",
      "Increase the number of iterations (max_iter) or scale the data as shown in:\n",
      "    https://scikit-learn.org/stable/modules/preprocessing.html\n",
      "Please also refer to the documentation for alternative solver options:\n",
      "    https://scikit-learn.org/stable/modules/linear_model.html#logistic-regression\n",
      "  n_iter_i = _check_optimize_result(\n",
      "/usr/local/lib/python3.10/dist-packages/sklearn/linear_model/_logistic.py:458: ConvergenceWarning: lbfgs failed to converge (status=1):\n",
      "STOP: TOTAL NO. of ITERATIONS REACHED LIMIT.\n",
      "\n",
      "Increase the number of iterations (max_iter) or scale the data as shown in:\n",
      "    https://scikit-learn.org/stable/modules/preprocessing.html\n",
      "Please also refer to the documentation for alternative solver options:\n",
      "    https://scikit-learn.org/stable/modules/linear_model.html#logistic-regression\n",
      "  n_iter_i = _check_optimize_result(\n",
      "/usr/local/lib/python3.10/dist-packages/sklearn/linear_model/_logistic.py:458: ConvergenceWarning: lbfgs failed to converge (status=1):\n",
      "STOP: TOTAL NO. of ITERATIONS REACHED LIMIT.\n",
      "\n",
      "Increase the number of iterations (max_iter) or scale the data as shown in:\n",
      "    https://scikit-learn.org/stable/modules/preprocessing.html\n",
      "Please also refer to the documentation for alternative solver options:\n",
      "    https://scikit-learn.org/stable/modules/linear_model.html#logistic-regression\n",
      "  n_iter_i = _check_optimize_result(\n",
      "/usr/local/lib/python3.10/dist-packages/sklearn/linear_model/_logistic.py:458: ConvergenceWarning: lbfgs failed to converge (status=1):\n",
      "STOP: TOTAL NO. of ITERATIONS REACHED LIMIT.\n",
      "\n",
      "Increase the number of iterations (max_iter) or scale the data as shown in:\n",
      "    https://scikit-learn.org/stable/modules/preprocessing.html\n",
      "Please also refer to the documentation for alternative solver options:\n",
      "    https://scikit-learn.org/stable/modules/linear_model.html#logistic-regression\n",
      "  n_iter_i = _check_optimize_result(\n",
      "/usr/local/lib/python3.10/dist-packages/sklearn/linear_model/_logistic.py:458: ConvergenceWarning: lbfgs failed to converge (status=1):\n",
      "STOP: TOTAL NO. of ITERATIONS REACHED LIMIT.\n",
      "\n",
      "Increase the number of iterations (max_iter) or scale the data as shown in:\n",
      "    https://scikit-learn.org/stable/modules/preprocessing.html\n",
      "Please also refer to the documentation for alternative solver options:\n",
      "    https://scikit-learn.org/stable/modules/linear_model.html#logistic-regression\n",
      "  n_iter_i = _check_optimize_result(\n",
      "/usr/local/lib/python3.10/dist-packages/sklearn/linear_model/_logistic.py:458: ConvergenceWarning: lbfgs failed to converge (status=1):\n",
      "STOP: TOTAL NO. of ITERATIONS REACHED LIMIT.\n",
      "\n",
      "Increase the number of iterations (max_iter) or scale the data as shown in:\n",
      "    https://scikit-learn.org/stable/modules/preprocessing.html\n",
      "Please also refer to the documentation for alternative solver options:\n",
      "    https://scikit-learn.org/stable/modules/linear_model.html#logistic-regression\n",
      "  n_iter_i = _check_optimize_result(\n",
      "10it [01:36,  9.63s/it]\n"
     ]
    }
   ],
   "source": [
    "list_C = [5,10,15,20]\n",
    "\n",
    "n_shadow_models = 10\n",
    "list_accuracy = []\n",
    "list_f1score = []\n",
    "\n",
    "for i in range(len(list_C)):\n",
    "  #target model\n",
    "  X_train, X_test, y_train, y_test = train_test_split(X_processed, y_processed, test_size=200, train_size=200,stratify = y_processed)\n",
    "  target_model = LogisticRegression(C = list_C[i])\n",
    "  target_model.fit(X_train, y_train)\n",
    "\n",
    "  #shadow model and hacking model\n",
    "  X_shadow, temp, y_shadow, temp2 = train_test_split(X_processed, y_processed, test_size=2500, train_size=2500,stratify = y_processed)\n",
    "  models = [ LogisticRegression(C = list_C[i])]*n_shadow_models\n",
    "  hack = HackingModel(RandomForestClassifier(n_estimators=200),models, X_shadow, y_shadow,\n",
    "                    list(set(y_shadow)),list(set(y_train)) )\n",
    "  a,b = hack.give_constants(X_train,y_train, X_test,y_test, target_model)\n",
    "\n",
    "  list_accuracy.append(a)\n",
    "  list_f1score.append(b)\n"
   ]
  },
  {
   "cell_type": "code",
   "execution_count": null,
   "id": "5a564a4b",
   "metadata": {
    "colab": {
     "base_uri": "https://localhost:8080/",
     "height": 407
    },
    "executionInfo": {
     "elapsed": 774,
     "status": "ok",
     "timestamp": 1703673336728,
     "user": {
      "displayName": "Max Kramkimel",
      "userId": "08772700917866145302"
     },
     "user_tz": -60
    },
    "id": "qahiCAVT1TlU",
    "outputId": "0e81e464-d10f-478b-8511-8ba520b0f672"
   },
   "outputs": [
    {
     "data": {
      "image/png": "[encoded data removed]",
      "text/plain": [
       "<Figure size 1000x400 with 2 Axes>"
      ]
     },
     "metadata": {},
     "output_type": "display_data"
    }
   ],
   "source": [
    "fig, axs = plt.subplots(1, 2, figsize=(10, 4))\n",
    "\n",
    "axs[0].plot(list_C, list_accuracy)\n",
    "axs[0].set_xlabel('Coefficient C')\n",
    "axs[0].set_title(\"Accuracy with respect to regularization\")\n",
    "axs[0].set_ylabel(\"Accuracy\")\n",
    "\n",
    "axs[1].plot(list_C, list_f1score)\n",
    "axs[1].set_xlabel('Coefficient C')\n",
    "axs[1].set_title(\"f1 score with respect to regularization\")\n",
    "axs[1].set_ylabel(\"f1 score\")\n",
    "\n",
    "plt.tight_layout()\n",
    "plt.show()\n"
   ]
  },
  {
   "cell_type": "code",
   "execution_count": null,
   "id": "ac35f3a1",
   "metadata": {
    "colab": {
     "background_save": true
    },
    "id": "YFfqQ7u1cdRc"
   },
   "outputs": [
    {
     "name": "stderr",
     "output_type": "stream",
     "text": [
      "10it [00:39,  3.98s/it]\n",
      "10it [01:10,  7.10s/it]\n",
      "10it [01:30,  9.09s/it]\n",
      "10it [01:34,  9.45s/it]\n"
     ]
    }
   ],
   "source": [
    "list_C = [5,10,15,20]\n",
    "\n",
    "n_shadow_models = 10\n",
    "list_accuracy = []\n",
    "list_f1score = []\n",
    "\n",
    "for i in range(len(list_C)):\n",
    "  #target model\n",
    "  X_train, X_test, y_train, y_test = train_test_split(X_processed, y_processed, test_size=200, train_size=200,stratify = y_processed)\n",
    "  target_model = LogisticRegression(C = list_C[i])\n",
    "  target_model.fit(X_train, y_train)\n",
    "\n",
    "  #shadow model and hacking model\n",
    "  X_shadow, temp, y_shadow, temp2 = train_test_split(X_processed, y_processed, test_size=2500, train_size=2500,stratify = y_processed)\n",
    "  models = [ LogisticRegression(C = list_C[i])]*n_shadow_models\n",
    "  hack = HackingModel(RandomForestClassifier(n_estimators=200),models, X_shadow, y_shadow,\n",
    "                    list(set(y_shadow)),list(set(y_train)) )\n",
    "  a,b = hack.give_constants(X_train,y_train, X_test,y_test, target_model)\n",
    "\n",
    "  list_accuracy.append(a)\n",
    "  list_f1score.append(b)\n"
   ]
  },
  {
   "cell_type": "markdown",
   "id": "5cdb3b7f",
   "metadata": {
    "id": "061d6125-7352-4cb6-8179-1d9f3b051e6a"
   },
   "source": [
    "# Synthetic dataset"
   ]
  },
  {
   "cell_type": "code",
   "execution_count": null,
   "id": "be4997b4",
   "metadata": {
    "id": "1e648218-085d-4f24-91c7-174b87e7adfa"
   },
   "outputs": [],
   "source": [
    "#warnings.filterwarnings(\"ignore\")"
   ]
  },
  {
   "cell_type": "code",
   "execution_count": null,
   "id": "0c5f3da4",
   "metadata": {
    "id": "1b68f3c7-423c-4276-8f0b-83bc0b764ce3"
   },
   "outputs": [],
   "source": [
    "data_synt=pd.DataFrame(np.random.normal(loc=0, scale=1, size=(10000, 10)))\n",
    "data_synt['A']= (data_synt[1] + data_synt[0] > 4).astype(int)\n",
    "data_synt['B']= (data_synt[2] - 3*data_synt[3] + data_synt[4] > 0).astype(int)\n",
    "data_synt['C']= (data_synt[5] - 3*data_synt[6] + data_synt[7] > 3).astype(int)\n",
    "data_synt['D']= (-data_synt[8] - data_synt[9]  > 0).astype(int)\n",
    "classification_y=['A','B','C','D']\n",
    "data_synt['E']=0\n",
    "for i in range(len(classification_y)):\n",
    "    col=classification_y[i]\n",
    "    data_synt['E']+=2**i * data_synt[col]\n",
    "X_synt=data_synt.copy()\n",
    "X_synt=X_synt.drop(columns=['A','B','C','D','E'])\n",
    "y_synt=data_synt.copy()\n",
    "y_synt=y_synt.drop(columns=[i for i in range(10)])\n",
    "y_synt=y_synt.drop(columns=['A','B','C','D'])"
   ]
  },
  {
   "cell_type": "code",
   "execution_count": null,
   "id": "ad39fe2d",
   "metadata": {
    "id": "32afe74e-d8a7-474c-81ce-14b81737d6a6",
    "outputId": "c1f0b5fc-e02b-46dd-bd2e-e6bd7c6ce20d"
   },
   "outputs": [
    {
     "name": "stdout",
     "output_type": "stream",
     "text": [
      "Train Result ; Accuracy Score: 70.00%\n",
      "Test Result ; Accuracy Score: 57.50%\n"
     ]
    }
   ],
   "source": [
    "#Modèle à hacker\n",
    "X_train, X_test, y_train, y_test = train_test_split(X_synt, y_synt, test_size=1000, train_size=300)\n",
    "liste_y_target_model=list(set(y_train.E))\n",
    "knn_clf = KNeighborsClassifier()\n",
    "knn_clf.fit(X_train, y_train)\n",
    "\n",
    "print_score(knn_clf, X_train, y_train, X_test, y_test, train=True)\n",
    "print_score(knn_clf, X_train, y_train, X_test, y_test, train=False)"
   ]
  },
  {
   "cell_type": "code",
   "execution_count": null,
   "id": "9f3b4c5f",
   "metadata": {
    "id": "6617fe3a-7dac-4f26-a4dd-9b75843755df",
    "outputId": "6faf2124-6c86-4721-ca78-9564f07f7cc6"
   },
   "outputs": [
    {
     "name": "stdout",
     "output_type": "stream",
     "text": [
      "recall : 0.6466666666666666\n",
      "precision : 0.26944444444444443\n"
     ]
    }
   ],
   "source": [
    "models = [KNeighborsClassifier() for i in range(20)]\n",
    "test=HackingModel(RandomForestClassifier(n_estimators=1000),models, X_synt, y_synt['E'], list(set(y_synt['E'])), liste_y_target_model)\n",
    "test.score_hacking(X_train,y_train['E'], X_test,y_test['E'], knn_clf)"
   ]
  }
 ],
 "metadata": {
  "colab": {
   "name": "",
   "version": ""
  },
  "kernelspec": {
   "display_name": "Python 3 (ipykernel)",
   "language": "python",
   "name": "python3"
  },
  "language_info": {
   "codemirror_mode": {
    "name": "ipython",
    "version": 3
   },
   "file_extension": ".py",
   "mimetype": "text/x-python",
   "name": "python",
   "nbconvert_exporter": "python",
   "pygments_lexer": "ipython3",
   "version": "3.9.13"
  }
 },
 "nbformat": 4,
 "nbformat_minor": 5
}
